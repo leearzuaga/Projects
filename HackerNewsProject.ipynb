{
  "nbformat": 4,
  "nbformat_minor": 0,
  "metadata": {
    "colab": {
      "name": "HackerNewsProject.ipynb",
      "provenance": [],
      "toc_visible": true,
      "authorship_tag": "ABX9TyOK90Y1Ij82ZGdihnx709pH",
      "include_colab_link": true
    },
    "kernelspec": {
      "name": "python3",
      "display_name": "Python 3"
    }
  },
  "cells": [
    {
      "cell_type": "markdown",
      "metadata": {
        "id": "view-in-github",
        "colab_type": "text"
      },
      "source": [
        "<a href=\"https://colab.research.google.com/github/leearzuaga/Projects/blob/main/HackerNewsProject.ipynb\" target=\"_parent\"><img src=\"https://colab.research.google.com/assets/colab-badge.svg\" alt=\"Open In Colab\"/></a>"
      ]
    },
    {
      "cell_type": "markdown",
      "metadata": {
        "id": "W-xB7DLszA4E"
      },
      "source": [
        "## Exploring Hackers News Posts"
      ]
    },
    {
      "cell_type": "markdown",
      "metadata": {
        "id": "S0BEG-WSzm3w"
      },
      "source": [
        "##### In this project, I'll be analyzing two different types of posts from Hacker News, a popular website where technology related stories (or 'posts') are voted and commented upon (much like reddit). The two types of posts I'll be analyzing begin with either Ask HN or Show HN.\n",
        "\n",
        "##### Ask HN are user-submitted posts that ask the Hacker News community a specific question like -- \"What is the best online course you've ever taken?\" Similarly, Show HN are user-submitted posts that show the Hacker News community a project, product, or generally just anything of interest.\n",
        "\n",
        "##### I'll specifically compare these two types of posts to determine the following:\n",
        "\n",
        "*   Do Ask HN or Show HN receive more comments on average?\n",
        "*   Do posts created at a certain time receive more comments on average?\n",
        "\n",
        "##### Please note that the data set I'm working with was reduced from almost 300,000 rows to approximately 20,000 rows by removing all submissions that did not receive any comments, and then randomly sampling from the remaining submissions.\n",
        "\n"
      ]
    },
    {
      "cell_type": "markdown",
      "metadata": {
        "id": "Vjsj7jgd70rH"
      },
      "source": [
        "### Introduction"
      ]
    },
    {
      "cell_type": "code",
      "metadata": {
        "id": "c_TerRhgzDeh",
        "outputId": "dac45bb2-8059-498c-cc07-fce201159054",
        "colab": {
          "base_uri": "https://localhost:8080/"
        }
      },
      "source": [
        "# Read in the hacker_news.csv file as a list of lists\n",
        "import csv\n",
        "\n",
        "f = open('hacker_news.csv')\n",
        "hn = list(csv.reader(f))\n",
        "\n",
        "# I'll display the first 5 rows to see what are list of lists data set looks like\n",
        "\n",
        "hn[:5]\n",
        "\n"
      ],
      "execution_count": null,
      "outputs": [
        {
          "output_type": "execute_result",
          "data": {
            "text/plain": [
              "[['id', 'title', 'url', 'num_points', 'num_comments', 'author', 'created_at'],\n",
              " ['12224879',\n",
              "  'Interactive Dynamic Video',\n",
              "  'http://www.interactivedynamicvideo.com/',\n",
              "  '386',\n",
              "  '52',\n",
              "  'ne0phyte',\n",
              "  '8/4/2016 11:52'],\n",
              " ['10975351',\n",
              "  'How to Use Open Source and Shut the Fuck Up at the Same Time',\n",
              "  'http://hueniverse.com/2016/01/26/how-to-use-open-source-and-shut-the-fuck-up-at-the-same-time/',\n",
              "  '39',\n",
              "  '10',\n",
              "  'josep2',\n",
              "  '1/26/2016 19:30'],\n",
              " ['11964716',\n",
              "  \"Florida DJs May Face Felony for April Fools' Water Joke\",\n",
              "  'http://www.thewire.com/entertainment/2013/04/florida-djs-april-fools-water-joke/63798/',\n",
              "  '2',\n",
              "  '1',\n",
              "  'vezycash',\n",
              "  '6/23/2016 22:20'],\n",
              " ['11919867',\n",
              "  'Technology ventures: From Idea to Enterprise',\n",
              "  'https://www.amazon.com/Technology-Ventures-Enterprise-Thomas-Byers/dp/0073523429',\n",
              "  '3',\n",
              "  '1',\n",
              "  'hswarna',\n",
              "  '6/17/2016 0:01']]"
            ]
          },
          "metadata": {
            "tags": []
          },
          "execution_count": 1
        }
      ]
    },
    {
      "cell_type": "markdown",
      "metadata": {
        "id": "IOFJx4N4_FNo"
      },
      "source": [
        "### Removing Headers From Our Data Set\n",
        "\n",
        "##### In order to analyze our data, we first need to remove the row containing the column headers from our data set."
      ]
    },
    {
      "cell_type": "code",
      "metadata": {
        "id": "wTrSSRaIBGHw",
        "outputId": "456e31fe-70ad-4fae-e49c-474be3c8d03c",
        "colab": {
          "base_uri": "https://localhost:8080/"
        }
      },
      "source": [
        "hn_headers = hn[0]\n",
        "\n",
        "print(hn_headers)\n",
        "\n",
        "hn = hn[1:]\n",
        "\n",
        "print(hn[:5])"
      ],
      "execution_count": null,
      "outputs": [
        {
          "output_type": "stream",
          "text": [
            "['id', 'title', 'url', 'num_points', 'num_comments', 'author', 'created_at']\n",
            "[['12224879', 'Interactive Dynamic Video', 'http://www.interactivedynamicvideo.com/', '386', '52', 'ne0phyte', '8/4/2016 11:52'], ['10975351', 'How to Use Open Source and Shut the Fuck Up at the Same Time', 'http://hueniverse.com/2016/01/26/how-to-use-open-source-and-shut-the-fuck-up-at-the-same-time/', '39', '10', 'josep2', '1/26/2016 19:30'], ['11964716', \"Florida DJs May Face Felony for April Fools' Water Joke\", 'http://www.thewire.com/entertainment/2013/04/florida-djs-april-fools-water-joke/63798/', '2', '1', 'vezycash', '6/23/2016 22:20'], ['11919867', 'Technology ventures: From Idea to Enterprise', 'https://www.amazon.com/Technology-Ventures-Enterprise-Thomas-Byers/dp/0073523429', '3', '1', 'hswarna', '6/17/2016 0:01'], ['10301696', 'Note by Note: The Making of Steinway L1037 (2007)', 'http://www.nytimes.com/2007/11/07/movies/07stein.html?_r=0', '8', '2', 'walterbell', '9/30/2015 4:12']]\n"
          ],
          "name": "stdout"
        }
      ]
    },
    {
      "cell_type": "markdown",
      "metadata": {
        "id": "Owvjlh-aEga0"
      },
      "source": [
        "##### We can see from the above output that the data set contains the title of the posts, the number of comments for each post, and the date the post was created. Let's start by exploring the number of comments for each type of post"
      ]
    },
    {
      "cell_type": "markdown",
      "metadata": {
        "id": "KvDhjQZeASON"
      },
      "source": [
        "#### Extracting Ask HN and Show HN Posts\n",
        "\n",
        "##### First, I'll identify posts that begin with either Ask HN or Show HN and separate the data for those two types of posts into different lists. Separating the data makes it easier to analyze in the following steps."
      ]
    },
    {
      "cell_type": "code",
      "metadata": {
        "id": "s-W1YsKm_eMG",
        "outputId": "bcfa9b8d-adac-4940-b40e-1e1d0920a8b4",
        "colab": {
          "base_uri": "https://localhost:8080/"
        }
      },
      "source": [
        "# First I'll create 3 separate, empty lists -- one for each type of post\n",
        "\n",
        "ask_posts = []\n",
        "show_posts = [] \n",
        "other_posts = []\n",
        "\n",
        "# Now we loop through our hn data set and assign the title of each post\n",
        "# in each row to a variable named title\n",
        "\n",
        "for post in hn:\n",
        "  title = post[1]\n",
        "  if title.lower().startswith('ask hn'):\n",
        "    ask_posts.append(post)\n",
        "  \n",
        "  elif title.lower().startswith('show hn'):\n",
        "    show_posts.append(post)\n",
        "\n",
        "  else:\n",
        "    other_posts.append(post)\n",
        "\n",
        "# Checking out empty lists above to confirm our code was correct\n",
        "print(ask_posts[:5])\n",
        "print()\n",
        "print(show_posts[:5])\n",
        "print()\n",
        "print(other_posts[:5])\n",
        "\n",
        "# Finally we'll check the number of posts in ask_posts, show_posts, and other_posts\n",
        "print()\n",
        "print('Number Of Ask HN Posts : {num}'.format(num = len(ask_posts)))\n",
        "print('Number Of Show HN Posts : {num}'.format(num = len(show_posts)))\n",
        "print('Number Of Other HN Posts : {num}'.format(num = len(other_posts)))"
      ],
      "execution_count": null,
      "outputs": [
        {
          "output_type": "stream",
          "text": [
            "[['12296411', 'Ask HN: How to improve my personal website?', '', '2', '6', 'ahmedbaracat', '8/16/2016 9:55'], ['10610020', 'Ask HN: Am I the only one outraged by Twitter shutting down share counts?', '', '28', '29', 'tkfx', '11/22/2015 13:43'], ['11610310', 'Ask HN: Aby recent changes to CSS that broke mobile?', '', '1', '1', 'polskibus', '5/2/2016 10:14'], ['12210105', 'Ask HN: Looking for Employee #3 How do I do it?', '', '1', '3', 'sph130', '8/2/2016 14:20'], ['10394168', 'Ask HN: Someone offered to buy my browser extension from me. What now?', '', '28', '17', 'roykolak', '10/15/2015 16:38']]\n",
            "\n",
            "[['10627194', 'Show HN: Wio Link  ESP8266 Based Web of Things Hardware Development Platform', 'https://iot.seeed.cc', '26', '22', 'kfihihc', '11/25/2015 14:03'], ['10646440', 'Show HN: Something pointless I made', 'http://dn.ht/picklecat/', '747', '102', 'dhotson', '11/29/2015 22:46'], ['11590768', 'Show HN: Shanhu.io, a programming playground powered by e8vm', 'https://shanhu.io', '1', '1', 'h8liu', '4/28/2016 18:05'], ['12178806', 'Show HN: Webscope  Easy way for web developers to communicate with Clients', 'http://webscopeapp.com', '3', '3', 'fastbrick', '7/28/2016 7:11'], ['10872799', 'Show HN: GeoScreenshot  Easily test Geo-IP based web pages', 'https://www.geoscreenshot.com/', '1', '9', 'kpsychwave', '1/9/2016 20:45']]\n",
            "\n",
            "[['12224879', 'Interactive Dynamic Video', 'http://www.interactivedynamicvideo.com/', '386', '52', 'ne0phyte', '8/4/2016 11:52'], ['10975351', 'How to Use Open Source and Shut the Fuck Up at the Same Time', 'http://hueniverse.com/2016/01/26/how-to-use-open-source-and-shut-the-fuck-up-at-the-same-time/', '39', '10', 'josep2', '1/26/2016 19:30'], ['11964716', \"Florida DJs May Face Felony for April Fools' Water Joke\", 'http://www.thewire.com/entertainment/2013/04/florida-djs-april-fools-water-joke/63798/', '2', '1', 'vezycash', '6/23/2016 22:20'], ['11919867', 'Technology ventures: From Idea to Enterprise', 'https://www.amazon.com/Technology-Ventures-Enterprise-Thomas-Byers/dp/0073523429', '3', '1', 'hswarna', '6/17/2016 0:01'], ['10301696', 'Note by Note: The Making of Steinway L1037 (2007)', 'http://www.nytimes.com/2007/11/07/movies/07stein.html?_r=0', '8', '2', 'walterbell', '9/30/2015 4:12']]\n",
            "\n",
            "Number Of Ask HN Posts : 1744\n",
            "Number Of Show HN Posts : 1162\n",
            "Number Of Other HN Posts : 17194\n"
          ],
          "name": "stdout"
        }
      ]
    },
    {
      "cell_type": "markdown",
      "metadata": {
        "id": "9o_JHnGGIrxx"
      },
      "source": [
        "##### We can see from the output above, each post was separated into their unique lists successfully. We can also can see from the above output the number of posts in each list varies with Other HN Posts being the most frequent type of posts."
      ]
    },
    {
      "cell_type": "markdown",
      "metadata": {
        "id": "MNADaHuxLez9"
      },
      "source": [
        "### Calculating the Average Number of Comments for Ask HN and Show HN Posts"
      ]
    },
    {
      "cell_type": "code",
      "metadata": {
        "id": "Qcj4VeTXLWdi",
        "outputId": "7af20b76-1d37-4473-90ea-881e61997cef",
        "colab": {
          "base_uri": "https://localhost:8080/"
        }
      },
      "source": [
        "# Finding the total number of comments in the ask posts list\n",
        "\n",
        "total_ask_comments = 0\n",
        "\n",
        "for post in ask_posts:\n",
        "  total_ask_comments += int(post[4])\n",
        "\n",
        "print('Total Ask Comments : {num}'.format(num = total_ask_comments))\n",
        "\n",
        "# Finding the average number of ask comments\n",
        "avg_ask_comments = total_ask_comments / len(ask_posts)\n",
        "\n",
        "print('AVG Ask Comments : {num}'.format(num = avg_ask_comments))\n",
        "\n",
        "\n"
      ],
      "execution_count": null,
      "outputs": [
        {
          "output_type": "stream",
          "text": [
            "Total Ask Comments : 24483\n",
            "AVG Ask Comments : 14.038417431192661\n"
          ],
          "name": "stdout"
        }
      ]
    },
    {
      "cell_type": "code",
      "metadata": {
        "id": "w2jwnf0URB6m",
        "outputId": "6467d100-5d2b-40fc-f5bb-24eae2b97221",
        "colab": {
          "base_uri": "https://localhost:8080/"
        }
      },
      "source": [
        "total_show_comments = 0\n",
        "\n",
        "for post in show_posts:\n",
        "  total_show_comments += int(post[4])\n",
        "\n",
        "print('Total Show Comments : {num}'.format(num = total_show_comments))\n",
        "\n",
        "avg_show_comments = total_show_comments / len(show_posts)\n",
        "\n",
        "print('AVG Show Comments : {num}'.format(num = avg_show_comments))"
      ],
      "execution_count": null,
      "outputs": [
        {
          "output_type": "stream",
          "text": [
            "Total Show Comments : 11988\n",
            "AVG Show Comments : 10.31669535283993\n"
          ],
          "name": "stdout"
        }
      ]
    },
    {
      "cell_type": "markdown",
      "metadata": {
        "id": "0H4UYph5Rrga"
      },
      "source": [
        "##### We can see from the output that on average, Ask Posts recieve around 4 more comments per post than do Show Posts. Since ask posts are more likely to recieve comments, I'll focus my remaining analysis just on these posts."
      ]
    },
    {
      "cell_type": "markdown",
      "metadata": {
        "id": "boOlCk6_S475"
      },
      "source": [
        "### Finding the Amount of Ask Posts and Comments by Hour Created\n",
        "\n",
        "##### Next, we'll determine if we can maximize the amount of comments an ask post receives by creating it at a certain time. First, we'll find the amount of ask posts created during each hour of day, along with the number of comments those posts received. Then, we'll calculate the average amount of comments ask posts created at each hour of the day receive."
      ]
    },
    {
      "cell_type": "code",
      "metadata": {
        "id": "VegM3bEMSTAi",
        "outputId": "59a5076c-453d-4e7c-c63b-776b8b0169d5",
        "colab": {
          "base_uri": "https://localhost:8080/"
        }
      },
      "source": [
        "# Calculating the amount of ask posts created during each hour of day and the number of comments received.\n",
        "\n",
        "import datetime as dt\n",
        "\n",
        "result_list = []\n",
        "\n",
        "for post in ask_posts:\n",
        "  created_at = post[6]\n",
        "  num_comments = int(post[4])\n",
        "  result_list.append([created_at, num_comments])\n",
        "\n",
        "\n",
        "# print(result_list[:5])\n",
        "\n",
        "counts_by_hour = {}\n",
        "comments_by_hour = {}\n",
        "date_format = \"%m/%d/%Y %H:%M\"\n",
        "\n",
        "for row in result_list:\n",
        "  date = row[0]\n",
        "  comment = row[1]\n",
        "  time = dt.datetime.strptime(date, date_format).strftime('%H')\n",
        "\n",
        "  if time not in counts_by_hour:\n",
        "    counts_by_hour[time] = 1\n",
        "    comments_by_hour[time] = comment\n",
        "\n",
        "  else:\n",
        "    counts_by_hour[time] += 1\n",
        "    comments_by_hour[time] += comment\n",
        "\n",
        "# print(counts_by_hour)\n",
        "# print(comments_by_hour)\n",
        "  \n",
        "\n"
      ],
      "execution_count": null,
      "outputs": [
        {
          "output_type": "stream",
          "text": [
            "[['8/16/2016 9:55', 6], ['11/22/2015 13:43', 29], ['5/2/2016 10:14', 1], ['8/2/2016 14:20', 3], ['10/15/2015 16:38', 17]]\n",
            "{'09': 45, '13': 85, '10': 59, '14': 107, '16': 108, '23': 68, '12': 73, '17': 100, '15': 116, '21': 109, '20': 80, '02': 58, '18': 109, '03': 54, '05': 46, '19': 110, '01': 60, '22': 71, '08': 48, '04': 47, '00': 55, '06': 44, '07': 34, '11': 58}\n",
            "{'09': 251, '13': 1253, '10': 793, '14': 1416, '16': 1814, '23': 543, '12': 687, '17': 1146, '15': 4477, '21': 1745, '20': 1722, '02': 1381, '18': 1439, '03': 421, '05': 464, '19': 1188, '01': 683, '22': 479, '08': 492, '04': 337, '00': 447, '06': 397, '07': 267, '11': 641}\n"
          ],
          "name": "stdout"
        }
      ]
    },
    {
      "cell_type": "markdown",
      "metadata": {
        "id": "KJmfoipccSoq"
      },
      "source": [
        "##### After checking our output, we can see that we successfully retrieved the Ask Posts per hour and the number of comments per hour."
      ]
    },
    {
      "cell_type": "markdown",
      "metadata": {
        "id": "R8lGOS4ceFav"
      },
      "source": [
        "### Calculating the Average Number of Comments for Ask HN Posts by Hour"
      ]
    },
    {
      "cell_type": "code",
      "metadata": {
        "id": "rThWHUwDdZAI",
        "outputId": "95a3e845-55e0-4b6f-c37d-ed8848eb6234",
        "colab": {
          "base_uri": "https://localhost:8080/"
        }
      },
      "source": [
        "# Calculating the average amount of comments Ask HN posts created at each hour of the day receive.\n",
        "avg_by_hour = []\n",
        "\n",
        "for hour in comments_by_hour:\n",
        "  avg_by_hour.append([hour, comments_by_hour[hour] / counts_by_hour[hour]])\n",
        "\n",
        "print(avg_by_hour)"
      ],
      "execution_count": null,
      "outputs": [
        {
          "output_type": "stream",
          "text": [
            "[['09', 5.5777777777777775], ['13', 14.741176470588234], ['10', 13.440677966101696], ['14', 13.233644859813085], ['16', 16.796296296296298], ['23', 7.985294117647059], ['12', 9.41095890410959], ['17', 11.46], ['15', 38.5948275862069], ['21', 16.009174311926607], ['20', 21.525], ['02', 23.810344827586206], ['18', 13.20183486238532], ['03', 7.796296296296297], ['05', 10.08695652173913], ['19', 10.8], ['01', 11.383333333333333], ['22', 6.746478873239437], ['08', 10.25], ['04', 7.170212765957447], ['00', 8.127272727272727], ['06', 9.022727272727273], ['07', 7.852941176470588], ['11', 11.051724137931034]]\n"
          ],
          "name": "stdout"
        }
      ]
    },
    {
      "cell_type": "markdown",
      "metadata": {
        "id": "iywEpoy0hSX5"
      },
      "source": [
        "### Sorting and Printing Values from a List of Lists"
      ]
    },
    {
      "cell_type": "code",
      "metadata": {
        "id": "_j-Fjc8hhTIX",
        "outputId": "7f0e029c-cda8-4854-df12-15b464f797e8",
        "colab": {
          "base_uri": "https://localhost:8080/"
        }
      },
      "source": [
        "swap_avg_by_hour = []\n",
        "\n",
        "for row in avg_by_hour:\n",
        "  swap_avg_by_hour.append([row[1], row[0]])\n",
        "\n",
        "# print(swap_avg_by_hour)\n",
        "sorted_swap = sorted(swap_avg_by_hour, reverse = True)\n",
        "\n",
        "print(\"Top 5 Hours for 'Ask HN' Comments\")\n",
        "for avg, hour in sorted_swap[:5]:\n",
        "  print('{} : {:.2f} average comments per post'.format(dt.datetime.strptime(hour, '%H').strftime('%H:%M'), avg))"
      ],
      "execution_count": null,
      "outputs": [
        {
          "output_type": "stream",
          "text": [
            "Top 5 Hours for 'Ask HN' Comments\n",
            "15:00 : 38.59 average comments per post\n",
            "02:00 : 23.81 average comments per post\n",
            "20:00 : 21.52 average comments per post\n",
            "16:00 : 16.80 average comments per post\n",
            "21:00 : 16.01 average comments per post\n"
          ],
          "name": "stdout"
        }
      ]
    },
    {
      "cell_type": "markdown",
      "metadata": {
        "id": "4Epvc-TFne8B"
      },
      "source": [
        "##### As we can see from our output, the hour that receives the most comments per post on average is 15:00, with an average of 38.59 comments per post. There's about a 60% increase in the number of comments between the hours with the highest and second highest average number of comments which to me is pretty significant."
      ]
    },
    {
      "cell_type": "markdown",
      "metadata": {
        "id": "3iSbJXlwnrIO"
      },
      "source": [
        "### Conclusion\n",
        "\n",
        "##### In this project, I analyzed Ask posts and Show posts on Hacker News website to determine which type of post and time receive the most comments on average. Based on my analysis, to maximize the amount of comments a post receives, I'd recommend the post be categorized as Ask post and created between 15:00 and 16:00 (3:00 pm est - 4:00 pm est).\n",
        "\n",
        "##### However, it should be noted that the data set I analyzed excluded posts without any comments. Given that, it's more accurate to say that of the posts that received comments, Ask posts received more comments on average and Ask posts created between 15:00 and 16:00 (3:00 pm est - 4:00 pm est) received the most comments on average."
      ]
    },
    {
      "cell_type": "code",
      "metadata": {
        "id": "a0_sORYXnpWi"
      },
      "source": [
        ""
      ],
      "execution_count": null,
      "outputs": []
    }
  ]
}