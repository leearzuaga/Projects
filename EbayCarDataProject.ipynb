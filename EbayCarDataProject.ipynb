{
  "nbformat": 4,
  "nbformat_minor": 0,
  "metadata": {
    "colab": {
      "name": "EbayCarDataProject.ipynb",
      "provenance": [],
      "authorship_tag": "ABX9TyMYw6SutU0xmPcHFePG199X",
      "include_colab_link": true
    },
    "kernelspec": {
      "name": "python3",
      "display_name": "Python 3"
    }
  },
  "cells": [
    {
      "cell_type": "markdown",
      "metadata": {
        "id": "view-in-github",
        "colab_type": "text"
      },
      "source": [
        "<a href=\"https://colab.research.google.com/github/leearzuaga/Projects/blob/main/EbayCarDataProject.ipynb\" target=\"_parent\"><img src=\"https://colab.research.google.com/assets/colab-badge.svg\" alt=\"Open In Colab\"/></a>"
      ]
    },
    {
      "cell_type": "markdown",
      "metadata": {
        "id": "z405AYuUvPPx"
      },
      "source": [
        "# Analyzing Used Car Listings on eBay Kleinanzeigen\n",
        "\n",
        "##### In this project, I'll be working with a dataset of used cars from *eBay Kleinanzeigen* which is a classifieds section of the German eBay website. The goal for this project is to clean the dataset so that it is easier to analyze and extract insights. \n",
        "\n",
        "##### Please note that the dataset I will be working with is not the original dataset scraped and uploaded [here]('https://data.world/data-society/used-cars-data'). Instead, the dataset I will be working with has been modified by dataquest to inlcude 50,000 data points from the original dataset for efficiency reasons.\n",
        "\n",
        "##### Before I get started, I want to provide the data dictionary for the dataset I will be using so everyone can follow along. \n",
        "\n",
        "##### Data Dictionary:\n",
        "\n",
        "column|description\n",
        "--- | ---\n",
        "dateCrawled | When this ad was first crawled. All field-values are taken from this date.\n",
        "name | Name of the car.\n",
        "seller | Whether the seller is private or a dealer.\n",
        "offerType | The type of listing\n",
        "price | The price on the ad to sell the car.\n",
        "abtest | Whether the listing is included in an A/B test.\n",
        "vehicleType | The vehicle Type.\n",
        "yearOfRegistration | The year in which the car was first registered.\n",
        "gearbox | The transmission type.\n",
        "powerPS | The power of the car in PS.\n",
        "model | The car model name.\n",
        "kilometer | How many kilometers the car has driven.\n",
        "monthOfRegistration | The month in which the car was first registered.\n",
        "fuelType | What type of fuel the car uses.\n",
        "brand | The brand of the car.\n",
        "notRepairedDamage | If the car has a damage which is not yet repaired.\n",
        "dateCreated | The date on which the eBay listing was created.\n",
        "nrOfPictures | The number of pictures in the ad.\n",
        "postalCode | The postal code for the location of the vehicle.\n",
        "lastSeenOnline | When the crawler saw this ad last online."
      ]
    },
    {
      "cell_type": "markdown",
      "metadata": {
        "id": "IDHntm8azLuK"
      },
      "source": [
        "#Importing Libraries And Reading In Data"
      ]
    },
    {
      "cell_type": "code",
      "metadata": {
        "id": "fcg0dSBWuT_r"
      },
      "source": [
        "import numpy as np\n",
        "import pandas as pd\n",
        "\n",
        "autos = pd.read_csv('autos.csv', encoding = 'Latin-1')  # the defualt ETF-8 encoding settings did not work so I used the next most popular encoding"
      ],
      "execution_count": 1,
      "outputs": []
    },
    {
      "cell_type": "code",
      "metadata": {
        "id": "jVjq3NTH3VxD",
        "colab": {
          "base_uri": "https://localhost:8080/",
          "height": 882
        },
        "outputId": "fdd64673-5b20-47d7-848a-04a76149c5c6"
      },
      "source": [
        "# The below code will give us information about our dataset\n",
        "# and it will allow us to see the first 5 rows\n",
        "\n",
        "autos.info()\n",
        "autos.head()"
      ],
      "execution_count": 2,
      "outputs": [
        {
          "output_type": "stream",
          "text": [
            "<class 'pandas.core.frame.DataFrame'>\n",
            "RangeIndex: 50000 entries, 0 to 49999\n",
            "Data columns (total 20 columns):\n",
            " #   Column               Non-Null Count  Dtype \n",
            "---  ------               --------------  ----- \n",
            " 0   dateCrawled          50000 non-null  object\n",
            " 1   name                 50000 non-null  object\n",
            " 2   seller               50000 non-null  object\n",
            " 3   offerType            50000 non-null  object\n",
            " 4   price                50000 non-null  object\n",
            " 5   abtest               50000 non-null  object\n",
            " 6   vehicleType          44905 non-null  object\n",
            " 7   yearOfRegistration   50000 non-null  int64 \n",
            " 8   gearbox              47320 non-null  object\n",
            " 9   powerPS              50000 non-null  int64 \n",
            " 10  model                47242 non-null  object\n",
            " 11  odometer             50000 non-null  object\n",
            " 12  monthOfRegistration  50000 non-null  int64 \n",
            " 13  fuelType             45518 non-null  object\n",
            " 14  brand                50000 non-null  object\n",
            " 15  notRepairedDamage    40171 non-null  object\n",
            " 16  dateCreated          50000 non-null  object\n",
            " 17  nrOfPictures         50000 non-null  int64 \n",
            " 18  postalCode           50000 non-null  int64 \n",
            " 19  lastSeen             50000 non-null  object\n",
            "dtypes: int64(5), object(15)\n",
            "memory usage: 7.6+ MB\n"
          ],
          "name": "stdout"
        },
        {
          "output_type": "execute_result",
          "data": {
            "text/html": [
              "<div>\n",
              "<style scoped>\n",
              "    .dataframe tbody tr th:only-of-type {\n",
              "        vertical-align: middle;\n",
              "    }\n",
              "\n",
              "    .dataframe tbody tr th {\n",
              "        vertical-align: top;\n",
              "    }\n",
              "\n",
              "    .dataframe thead th {\n",
              "        text-align: right;\n",
              "    }\n",
              "</style>\n",
              "<table border=\"1\" class=\"dataframe\">\n",
              "  <thead>\n",
              "    <tr style=\"text-align: right;\">\n",
              "      <th></th>\n",
              "      <th>dateCrawled</th>\n",
              "      <th>name</th>\n",
              "      <th>seller</th>\n",
              "      <th>offerType</th>\n",
              "      <th>price</th>\n",
              "      <th>abtest</th>\n",
              "      <th>vehicleType</th>\n",
              "      <th>yearOfRegistration</th>\n",
              "      <th>gearbox</th>\n",
              "      <th>powerPS</th>\n",
              "      <th>model</th>\n",
              "      <th>odometer</th>\n",
              "      <th>monthOfRegistration</th>\n",
              "      <th>fuelType</th>\n",
              "      <th>brand</th>\n",
              "      <th>notRepairedDamage</th>\n",
              "      <th>dateCreated</th>\n",
              "      <th>nrOfPictures</th>\n",
              "      <th>postalCode</th>\n",
              "      <th>lastSeen</th>\n",
              "    </tr>\n",
              "  </thead>\n",
              "  <tbody>\n",
              "    <tr>\n",
              "      <th>0</th>\n",
              "      <td>2016-03-26 17:47:46</td>\n",
              "      <td>Peugeot_807_160_NAVTECH_ON_BOARD</td>\n",
              "      <td>privat</td>\n",
              "      <td>Angebot</td>\n",
              "      <td>$5,000</td>\n",
              "      <td>control</td>\n",
              "      <td>bus</td>\n",
              "      <td>2004</td>\n",
              "      <td>manuell</td>\n",
              "      <td>158</td>\n",
              "      <td>andere</td>\n",
              "      <td>150,000km</td>\n",
              "      <td>3</td>\n",
              "      <td>lpg</td>\n",
              "      <td>peugeot</td>\n",
              "      <td>nein</td>\n",
              "      <td>2016-03-26 00:00:00</td>\n",
              "      <td>0</td>\n",
              "      <td>79588</td>\n",
              "      <td>2016-04-06 06:45:54</td>\n",
              "    </tr>\n",
              "    <tr>\n",
              "      <th>1</th>\n",
              "      <td>2016-04-04 13:38:56</td>\n",
              "      <td>BMW_740i_4_4_Liter_HAMANN_UMBAU_Mega_Optik</td>\n",
              "      <td>privat</td>\n",
              "      <td>Angebot</td>\n",
              "      <td>$8,500</td>\n",
              "      <td>control</td>\n",
              "      <td>limousine</td>\n",
              "      <td>1997</td>\n",
              "      <td>automatik</td>\n",
              "      <td>286</td>\n",
              "      <td>7er</td>\n",
              "      <td>150,000km</td>\n",
              "      <td>6</td>\n",
              "      <td>benzin</td>\n",
              "      <td>bmw</td>\n",
              "      <td>nein</td>\n",
              "      <td>2016-04-04 00:00:00</td>\n",
              "      <td>0</td>\n",
              "      <td>71034</td>\n",
              "      <td>2016-04-06 14:45:08</td>\n",
              "    </tr>\n",
              "    <tr>\n",
              "      <th>2</th>\n",
              "      <td>2016-03-26 18:57:24</td>\n",
              "      <td>Volkswagen_Golf_1.6_United</td>\n",
              "      <td>privat</td>\n",
              "      <td>Angebot</td>\n",
              "      <td>$8,990</td>\n",
              "      <td>test</td>\n",
              "      <td>limousine</td>\n",
              "      <td>2009</td>\n",
              "      <td>manuell</td>\n",
              "      <td>102</td>\n",
              "      <td>golf</td>\n",
              "      <td>70,000km</td>\n",
              "      <td>7</td>\n",
              "      <td>benzin</td>\n",
              "      <td>volkswagen</td>\n",
              "      <td>nein</td>\n",
              "      <td>2016-03-26 00:00:00</td>\n",
              "      <td>0</td>\n",
              "      <td>35394</td>\n",
              "      <td>2016-04-06 20:15:37</td>\n",
              "    </tr>\n",
              "    <tr>\n",
              "      <th>3</th>\n",
              "      <td>2016-03-12 16:58:10</td>\n",
              "      <td>Smart_smart_fortwo_coupe_softouch/F1/Klima/Pan...</td>\n",
              "      <td>privat</td>\n",
              "      <td>Angebot</td>\n",
              "      <td>$4,350</td>\n",
              "      <td>control</td>\n",
              "      <td>kleinwagen</td>\n",
              "      <td>2007</td>\n",
              "      <td>automatik</td>\n",
              "      <td>71</td>\n",
              "      <td>fortwo</td>\n",
              "      <td>70,000km</td>\n",
              "      <td>6</td>\n",
              "      <td>benzin</td>\n",
              "      <td>smart</td>\n",
              "      <td>nein</td>\n",
              "      <td>2016-03-12 00:00:00</td>\n",
              "      <td>0</td>\n",
              "      <td>33729</td>\n",
              "      <td>2016-03-15 03:16:28</td>\n",
              "    </tr>\n",
              "    <tr>\n",
              "      <th>4</th>\n",
              "      <td>2016-04-01 14:38:50</td>\n",
              "      <td>Ford_Focus_1_6_Benzin_TÜV_neu_ist_sehr_gepfleg...</td>\n",
              "      <td>privat</td>\n",
              "      <td>Angebot</td>\n",
              "      <td>$1,350</td>\n",
              "      <td>test</td>\n",
              "      <td>kombi</td>\n",
              "      <td>2003</td>\n",
              "      <td>manuell</td>\n",
              "      <td>0</td>\n",
              "      <td>focus</td>\n",
              "      <td>150,000km</td>\n",
              "      <td>7</td>\n",
              "      <td>benzin</td>\n",
              "      <td>ford</td>\n",
              "      <td>nein</td>\n",
              "      <td>2016-04-01 00:00:00</td>\n",
              "      <td>0</td>\n",
              "      <td>39218</td>\n",
              "      <td>2016-04-01 14:38:50</td>\n",
              "    </tr>\n",
              "  </tbody>\n",
              "</table>\n",
              "</div>"
            ],
            "text/plain": [
              "           dateCrawled  ...             lastSeen\n",
              "0  2016-03-26 17:47:46  ...  2016-04-06 06:45:54\n",
              "1  2016-04-04 13:38:56  ...  2016-04-06 14:45:08\n",
              "2  2016-03-26 18:57:24  ...  2016-04-06 20:15:37\n",
              "3  2016-03-12 16:58:10  ...  2016-03-15 03:16:28\n",
              "4  2016-04-01 14:38:50  ...  2016-04-01 14:38:50\n",
              "\n",
              "[5 rows x 20 columns]"
            ]
          },
          "metadata": {
            "tags": []
          },
          "execution_count": 2
        }
      ]
    },
    {
      "cell_type": "markdown",
      "metadata": {
        "id": "04dlcIHr2Bb6"
      },
      "source": [
        "##### After examining the output above, there are a few things we should note. \n",
        "\n",
        "*   We have 50,000 rows and 20 columns\n",
        "*   All but 5 of the 20 columns are non-object or string data types\n",
        "*   Column names are in Camel case (offerType) format instead of Python's preferred Snake case format (offer_type).\n",
        "*   5 out of the 20 columns contain null values\n",
        "\n",
        "##### Now that we've made these observations, let us start cleaning the data and exploring it further.\n",
        "\n"
      ]
    },
    {
      "cell_type": "markdown",
      "metadata": {
        "id": "QgZwlywl3VAs"
      },
      "source": [
        "#Data Cleaning\n",
        "\n",
        "### Cleaning Column Names\n",
        "\n",
        "##### I noticed in the previous section that the columns in our dataset our in a camel case format. In this section, I am going to clean up some of the column names by converting them from camel case to snake case. I'll also rename a few columns with more descriptive column names."
      ]
    },
    {
      "cell_type": "code",
      "metadata": {
        "id": "sJnLPqOl3Vzx",
        "colab": {
          "base_uri": "https://localhost:8080/"
        },
        "outputId": "f03f94da-bb9d-46ef-a6ab-09c83e3b259e"
      },
      "source": [
        "# First lets take a look at our column names one more time\n",
        "\n",
        "autos.columns"
      ],
      "execution_count": 3,
      "outputs": [
        {
          "output_type": "execute_result",
          "data": {
            "text/plain": [
              "Index(['dateCrawled', 'name', 'seller', 'offerType', 'price', 'abtest',\n",
              "       'vehicleType', 'yearOfRegistration', 'gearbox', 'powerPS', 'model',\n",
              "       'odometer', 'monthOfRegistration', 'fuelType', 'brand',\n",
              "       'notRepairedDamage', 'dateCreated', 'nrOfPictures', 'postalCode',\n",
              "       'lastSeen'],\n",
              "      dtype='object')"
            ]
          },
          "metadata": {
            "tags": []
          },
          "execution_count": 3
        }
      ]
    },
    {
      "cell_type": "code",
      "metadata": {
        "id": "MKwF69Yu3V3U"
      },
      "source": [
        "# In the above output we once again see the camel case colum names\n",
        "# I'll be renaming these columns: yearOfRegistration, monthOfRegistration, notRepairedDamage, and dateCreated\n",
        "# The code below allows me to rename columns and convert them to snake case all at once\n",
        "\n",
        "autos.columns = ['date_crawled', 'name', 'seller', 'offer_type', 'price', 'abtest',\n",
        "       'vehicle_type', 'registration_year', 'gear_box', 'power_ps', 'model',\n",
        "       'odometer', 'registration_month', 'fuelt_type', 'brand',\n",
        "       'unrepaired_damage', 'ad_created', 'num_of_photos', 'postal_code',\n",
        "       'last_seen']\n"
      ],
      "execution_count": 4,
      "outputs": []
    },
    {
      "cell_type": "code",
      "metadata": {
        "id": "Ld-gZJ_K3V58",
        "colab": {
          "base_uri": "https://localhost:8080/",
          "height": 371
        },
        "outputId": "bd444be0-b945-4a00-fe73-4f0cb2a8eb20"
      },
      "source": [
        "# Verifying the changes worked\n",
        "\n",
        "print(autos.columns)\n",
        "autos.head(3)"
      ],
      "execution_count": 5,
      "outputs": [
        {
          "output_type": "stream",
          "text": [
            "Index(['date_crawled', 'name', 'seller', 'offer_type', 'price', 'abtest',\n",
            "       'vehicle_type', 'registration_year', 'gear_box', 'power_ps', 'model',\n",
            "       'odometer', 'registration_month', 'fuelt_type', 'brand',\n",
            "       'unrepaired_damage', 'ad_created', 'num_of_photos', 'postal_code',\n",
            "       'last_seen'],\n",
            "      dtype='object')\n"
          ],
          "name": "stdout"
        },
        {
          "output_type": "execute_result",
          "data": {
            "text/html": [
              "<div>\n",
              "<style scoped>\n",
              "    .dataframe tbody tr th:only-of-type {\n",
              "        vertical-align: middle;\n",
              "    }\n",
              "\n",
              "    .dataframe tbody tr th {\n",
              "        vertical-align: top;\n",
              "    }\n",
              "\n",
              "    .dataframe thead th {\n",
              "        text-align: right;\n",
              "    }\n",
              "</style>\n",
              "<table border=\"1\" class=\"dataframe\">\n",
              "  <thead>\n",
              "    <tr style=\"text-align: right;\">\n",
              "      <th></th>\n",
              "      <th>date_crawled</th>\n",
              "      <th>name</th>\n",
              "      <th>seller</th>\n",
              "      <th>offer_type</th>\n",
              "      <th>price</th>\n",
              "      <th>abtest</th>\n",
              "      <th>vehicle_type</th>\n",
              "      <th>registration_year</th>\n",
              "      <th>gear_box</th>\n",
              "      <th>power_ps</th>\n",
              "      <th>model</th>\n",
              "      <th>odometer</th>\n",
              "      <th>registration_month</th>\n",
              "      <th>fuelt_type</th>\n",
              "      <th>brand</th>\n",
              "      <th>unrepaired_damage</th>\n",
              "      <th>ad_created</th>\n",
              "      <th>num_of_photos</th>\n",
              "      <th>postal_code</th>\n",
              "      <th>last_seen</th>\n",
              "    </tr>\n",
              "  </thead>\n",
              "  <tbody>\n",
              "    <tr>\n",
              "      <th>0</th>\n",
              "      <td>2016-03-26 17:47:46</td>\n",
              "      <td>Peugeot_807_160_NAVTECH_ON_BOARD</td>\n",
              "      <td>privat</td>\n",
              "      <td>Angebot</td>\n",
              "      <td>$5,000</td>\n",
              "      <td>control</td>\n",
              "      <td>bus</td>\n",
              "      <td>2004</td>\n",
              "      <td>manuell</td>\n",
              "      <td>158</td>\n",
              "      <td>andere</td>\n",
              "      <td>150,000km</td>\n",
              "      <td>3</td>\n",
              "      <td>lpg</td>\n",
              "      <td>peugeot</td>\n",
              "      <td>nein</td>\n",
              "      <td>2016-03-26 00:00:00</td>\n",
              "      <td>0</td>\n",
              "      <td>79588</td>\n",
              "      <td>2016-04-06 06:45:54</td>\n",
              "    </tr>\n",
              "    <tr>\n",
              "      <th>1</th>\n",
              "      <td>2016-04-04 13:38:56</td>\n",
              "      <td>BMW_740i_4_4_Liter_HAMANN_UMBAU_Mega_Optik</td>\n",
              "      <td>privat</td>\n",
              "      <td>Angebot</td>\n",
              "      <td>$8,500</td>\n",
              "      <td>control</td>\n",
              "      <td>limousine</td>\n",
              "      <td>1997</td>\n",
              "      <td>automatik</td>\n",
              "      <td>286</td>\n",
              "      <td>7er</td>\n",
              "      <td>150,000km</td>\n",
              "      <td>6</td>\n",
              "      <td>benzin</td>\n",
              "      <td>bmw</td>\n",
              "      <td>nein</td>\n",
              "      <td>2016-04-04 00:00:00</td>\n",
              "      <td>0</td>\n",
              "      <td>71034</td>\n",
              "      <td>2016-04-06 14:45:08</td>\n",
              "    </tr>\n",
              "    <tr>\n",
              "      <th>2</th>\n",
              "      <td>2016-03-26 18:57:24</td>\n",
              "      <td>Volkswagen_Golf_1.6_United</td>\n",
              "      <td>privat</td>\n",
              "      <td>Angebot</td>\n",
              "      <td>$8,990</td>\n",
              "      <td>test</td>\n",
              "      <td>limousine</td>\n",
              "      <td>2009</td>\n",
              "      <td>manuell</td>\n",
              "      <td>102</td>\n",
              "      <td>golf</td>\n",
              "      <td>70,000km</td>\n",
              "      <td>7</td>\n",
              "      <td>benzin</td>\n",
              "      <td>volkswagen</td>\n",
              "      <td>nein</td>\n",
              "      <td>2016-03-26 00:00:00</td>\n",
              "      <td>0</td>\n",
              "      <td>35394</td>\n",
              "      <td>2016-04-06 20:15:37</td>\n",
              "    </tr>\n",
              "  </tbody>\n",
              "</table>\n",
              "</div>"
            ],
            "text/plain": [
              "          date_crawled  ...            last_seen\n",
              "0  2016-03-26 17:47:46  ...  2016-04-06 06:45:54\n",
              "1  2016-04-04 13:38:56  ...  2016-04-06 14:45:08\n",
              "2  2016-03-26 18:57:24  ...  2016-04-06 20:15:37\n",
              "\n",
              "[3 rows x 20 columns]"
            ]
          },
          "metadata": {
            "tags": []
          },
          "execution_count": 5
        }
      ]
    },
    {
      "cell_type": "markdown",
      "metadata": {
        "id": "6RkJVzv85oR8"
      },
      "source": [
        "##### We can see from the above output that our changes were successful. These changes should allow to more easily navigate our dataset."
      ]
    },
    {
      "cell_type": "markdown",
      "metadata": {
        "id": "eQ1xh8PC6oso"
      },
      "source": [
        "# More Exploration And Cleaning\n",
        "\n",
        "##### Now that I've cleaned up some of the column names and converted them to snake case format, I will look for text columns where all or almost all values are the same (these columns can often be dropped as they don't provide useful information). I'll also look for numeric data stored as text which can be cleaned and converted to its proper data type (int or float). "
      ]
    },
    {
      "cell_type": "code",
      "metadata": {
        "id": "Bcl9LCn07TyN",
        "colab": {
          "base_uri": "https://localhost:8080/",
          "height": 433
        },
        "outputId": "03077154-cc81-4f06-e8f9-f90e41067d75"
      },
      "source": [
        "# The below code allows me to look at descriptive statistics for all the columns in our dataset\n",
        "# We can use the unique descriptive statistic to identify any columns with all or almost all of the same values \n",
        "\n",
        "autos.describe(include = 'all')"
      ],
      "execution_count": 6,
      "outputs": [
        {
          "output_type": "execute_result",
          "data": {
            "text/html": [
              "<div>\n",
              "<style scoped>\n",
              "    .dataframe tbody tr th:only-of-type {\n",
              "        vertical-align: middle;\n",
              "    }\n",
              "\n",
              "    .dataframe tbody tr th {\n",
              "        vertical-align: top;\n",
              "    }\n",
              "\n",
              "    .dataframe thead th {\n",
              "        text-align: right;\n",
              "    }\n",
              "</style>\n",
              "<table border=\"1\" class=\"dataframe\">\n",
              "  <thead>\n",
              "    <tr style=\"text-align: right;\">\n",
              "      <th></th>\n",
              "      <th>date_crawled</th>\n",
              "      <th>name</th>\n",
              "      <th>seller</th>\n",
              "      <th>offer_type</th>\n",
              "      <th>price</th>\n",
              "      <th>abtest</th>\n",
              "      <th>vehicle_type</th>\n",
              "      <th>registration_year</th>\n",
              "      <th>gear_box</th>\n",
              "      <th>power_ps</th>\n",
              "      <th>model</th>\n",
              "      <th>odometer</th>\n",
              "      <th>registration_month</th>\n",
              "      <th>fuelt_type</th>\n",
              "      <th>brand</th>\n",
              "      <th>unrepaired_damage</th>\n",
              "      <th>ad_created</th>\n",
              "      <th>num_of_photos</th>\n",
              "      <th>postal_code</th>\n",
              "      <th>last_seen</th>\n",
              "    </tr>\n",
              "  </thead>\n",
              "  <tbody>\n",
              "    <tr>\n",
              "      <th>count</th>\n",
              "      <td>50000</td>\n",
              "      <td>50000</td>\n",
              "      <td>50000</td>\n",
              "      <td>50000</td>\n",
              "      <td>50000</td>\n",
              "      <td>50000</td>\n",
              "      <td>44905</td>\n",
              "      <td>50000.000000</td>\n",
              "      <td>47320</td>\n",
              "      <td>50000.000000</td>\n",
              "      <td>47242</td>\n",
              "      <td>50000</td>\n",
              "      <td>50000.000000</td>\n",
              "      <td>45518</td>\n",
              "      <td>50000</td>\n",
              "      <td>40171</td>\n",
              "      <td>50000</td>\n",
              "      <td>50000.0</td>\n",
              "      <td>50000.000000</td>\n",
              "      <td>50000</td>\n",
              "    </tr>\n",
              "    <tr>\n",
              "      <th>unique</th>\n",
              "      <td>48213</td>\n",
              "      <td>38754</td>\n",
              "      <td>2</td>\n",
              "      <td>2</td>\n",
              "      <td>2357</td>\n",
              "      <td>2</td>\n",
              "      <td>8</td>\n",
              "      <td>NaN</td>\n",
              "      <td>2</td>\n",
              "      <td>NaN</td>\n",
              "      <td>245</td>\n",
              "      <td>13</td>\n",
              "      <td>NaN</td>\n",
              "      <td>7</td>\n",
              "      <td>40</td>\n",
              "      <td>2</td>\n",
              "      <td>76</td>\n",
              "      <td>NaN</td>\n",
              "      <td>NaN</td>\n",
              "      <td>39481</td>\n",
              "    </tr>\n",
              "    <tr>\n",
              "      <th>top</th>\n",
              "      <td>2016-03-12 16:06:22</td>\n",
              "      <td>Ford_Fiesta</td>\n",
              "      <td>privat</td>\n",
              "      <td>Angebot</td>\n",
              "      <td>$0</td>\n",
              "      <td>test</td>\n",
              "      <td>limousine</td>\n",
              "      <td>NaN</td>\n",
              "      <td>manuell</td>\n",
              "      <td>NaN</td>\n",
              "      <td>golf</td>\n",
              "      <td>150,000km</td>\n",
              "      <td>NaN</td>\n",
              "      <td>benzin</td>\n",
              "      <td>volkswagen</td>\n",
              "      <td>nein</td>\n",
              "      <td>2016-04-03 00:00:00</td>\n",
              "      <td>NaN</td>\n",
              "      <td>NaN</td>\n",
              "      <td>2016-04-07 06:17:27</td>\n",
              "    </tr>\n",
              "    <tr>\n",
              "      <th>freq</th>\n",
              "      <td>3</td>\n",
              "      <td>78</td>\n",
              "      <td>49999</td>\n",
              "      <td>49999</td>\n",
              "      <td>1421</td>\n",
              "      <td>25756</td>\n",
              "      <td>12859</td>\n",
              "      <td>NaN</td>\n",
              "      <td>36993</td>\n",
              "      <td>NaN</td>\n",
              "      <td>4024</td>\n",
              "      <td>32424</td>\n",
              "      <td>NaN</td>\n",
              "      <td>30107</td>\n",
              "      <td>10687</td>\n",
              "      <td>35232</td>\n",
              "      <td>1946</td>\n",
              "      <td>NaN</td>\n",
              "      <td>NaN</td>\n",
              "      <td>8</td>\n",
              "    </tr>\n",
              "    <tr>\n",
              "      <th>mean</th>\n",
              "      <td>NaN</td>\n",
              "      <td>NaN</td>\n",
              "      <td>NaN</td>\n",
              "      <td>NaN</td>\n",
              "      <td>NaN</td>\n",
              "      <td>NaN</td>\n",
              "      <td>NaN</td>\n",
              "      <td>2005.073280</td>\n",
              "      <td>NaN</td>\n",
              "      <td>116.355920</td>\n",
              "      <td>NaN</td>\n",
              "      <td>NaN</td>\n",
              "      <td>5.723360</td>\n",
              "      <td>NaN</td>\n",
              "      <td>NaN</td>\n",
              "      <td>NaN</td>\n",
              "      <td>NaN</td>\n",
              "      <td>0.0</td>\n",
              "      <td>50813.627300</td>\n",
              "      <td>NaN</td>\n",
              "    </tr>\n",
              "    <tr>\n",
              "      <th>std</th>\n",
              "      <td>NaN</td>\n",
              "      <td>NaN</td>\n",
              "      <td>NaN</td>\n",
              "      <td>NaN</td>\n",
              "      <td>NaN</td>\n",
              "      <td>NaN</td>\n",
              "      <td>NaN</td>\n",
              "      <td>105.712813</td>\n",
              "      <td>NaN</td>\n",
              "      <td>209.216627</td>\n",
              "      <td>NaN</td>\n",
              "      <td>NaN</td>\n",
              "      <td>3.711984</td>\n",
              "      <td>NaN</td>\n",
              "      <td>NaN</td>\n",
              "      <td>NaN</td>\n",
              "      <td>NaN</td>\n",
              "      <td>0.0</td>\n",
              "      <td>25779.747957</td>\n",
              "      <td>NaN</td>\n",
              "    </tr>\n",
              "    <tr>\n",
              "      <th>min</th>\n",
              "      <td>NaN</td>\n",
              "      <td>NaN</td>\n",
              "      <td>NaN</td>\n",
              "      <td>NaN</td>\n",
              "      <td>NaN</td>\n",
              "      <td>NaN</td>\n",
              "      <td>NaN</td>\n",
              "      <td>1000.000000</td>\n",
              "      <td>NaN</td>\n",
              "      <td>0.000000</td>\n",
              "      <td>NaN</td>\n",
              "      <td>NaN</td>\n",
              "      <td>0.000000</td>\n",
              "      <td>NaN</td>\n",
              "      <td>NaN</td>\n",
              "      <td>NaN</td>\n",
              "      <td>NaN</td>\n",
              "      <td>0.0</td>\n",
              "      <td>1067.000000</td>\n",
              "      <td>NaN</td>\n",
              "    </tr>\n",
              "    <tr>\n",
              "      <th>25%</th>\n",
              "      <td>NaN</td>\n",
              "      <td>NaN</td>\n",
              "      <td>NaN</td>\n",
              "      <td>NaN</td>\n",
              "      <td>NaN</td>\n",
              "      <td>NaN</td>\n",
              "      <td>NaN</td>\n",
              "      <td>1999.000000</td>\n",
              "      <td>NaN</td>\n",
              "      <td>70.000000</td>\n",
              "      <td>NaN</td>\n",
              "      <td>NaN</td>\n",
              "      <td>3.000000</td>\n",
              "      <td>NaN</td>\n",
              "      <td>NaN</td>\n",
              "      <td>NaN</td>\n",
              "      <td>NaN</td>\n",
              "      <td>0.0</td>\n",
              "      <td>30451.000000</td>\n",
              "      <td>NaN</td>\n",
              "    </tr>\n",
              "    <tr>\n",
              "      <th>50%</th>\n",
              "      <td>NaN</td>\n",
              "      <td>NaN</td>\n",
              "      <td>NaN</td>\n",
              "      <td>NaN</td>\n",
              "      <td>NaN</td>\n",
              "      <td>NaN</td>\n",
              "      <td>NaN</td>\n",
              "      <td>2003.000000</td>\n",
              "      <td>NaN</td>\n",
              "      <td>105.000000</td>\n",
              "      <td>NaN</td>\n",
              "      <td>NaN</td>\n",
              "      <td>6.000000</td>\n",
              "      <td>NaN</td>\n",
              "      <td>NaN</td>\n",
              "      <td>NaN</td>\n",
              "      <td>NaN</td>\n",
              "      <td>0.0</td>\n",
              "      <td>49577.000000</td>\n",
              "      <td>NaN</td>\n",
              "    </tr>\n",
              "    <tr>\n",
              "      <th>75%</th>\n",
              "      <td>NaN</td>\n",
              "      <td>NaN</td>\n",
              "      <td>NaN</td>\n",
              "      <td>NaN</td>\n",
              "      <td>NaN</td>\n",
              "      <td>NaN</td>\n",
              "      <td>NaN</td>\n",
              "      <td>2008.000000</td>\n",
              "      <td>NaN</td>\n",
              "      <td>150.000000</td>\n",
              "      <td>NaN</td>\n",
              "      <td>NaN</td>\n",
              "      <td>9.000000</td>\n",
              "      <td>NaN</td>\n",
              "      <td>NaN</td>\n",
              "      <td>NaN</td>\n",
              "      <td>NaN</td>\n",
              "      <td>0.0</td>\n",
              "      <td>71540.000000</td>\n",
              "      <td>NaN</td>\n",
              "    </tr>\n",
              "    <tr>\n",
              "      <th>max</th>\n",
              "      <td>NaN</td>\n",
              "      <td>NaN</td>\n",
              "      <td>NaN</td>\n",
              "      <td>NaN</td>\n",
              "      <td>NaN</td>\n",
              "      <td>NaN</td>\n",
              "      <td>NaN</td>\n",
              "      <td>9999.000000</td>\n",
              "      <td>NaN</td>\n",
              "      <td>17700.000000</td>\n",
              "      <td>NaN</td>\n",
              "      <td>NaN</td>\n",
              "      <td>12.000000</td>\n",
              "      <td>NaN</td>\n",
              "      <td>NaN</td>\n",
              "      <td>NaN</td>\n",
              "      <td>NaN</td>\n",
              "      <td>0.0</td>\n",
              "      <td>99998.000000</td>\n",
              "      <td>NaN</td>\n",
              "    </tr>\n",
              "  </tbody>\n",
              "</table>\n",
              "</div>"
            ],
            "text/plain": [
              "               date_crawled         name  ...   postal_code            last_seen\n",
              "count                 50000        50000  ...  50000.000000                50000\n",
              "unique                48213        38754  ...           NaN                39481\n",
              "top     2016-03-12 16:06:22  Ford_Fiesta  ...           NaN  2016-04-07 06:17:27\n",
              "freq                      3           78  ...           NaN                    8\n",
              "mean                    NaN          NaN  ...  50813.627300                  NaN\n",
              "std                     NaN          NaN  ...  25779.747957                  NaN\n",
              "min                     NaN          NaN  ...   1067.000000                  NaN\n",
              "25%                     NaN          NaN  ...  30451.000000                  NaN\n",
              "50%                     NaN          NaN  ...  49577.000000                  NaN\n",
              "75%                     NaN          NaN  ...  71540.000000                  NaN\n",
              "max                     NaN          NaN  ...  99998.000000                  NaN\n",
              "\n",
              "[11 rows x 20 columns]"
            ]
          },
          "metadata": {
            "tags": []
          },
          "execution_count": 6
        }
      ]
    },
    {
      "cell_type": "markdown",
      "metadata": {
        "id": "LG_3hAAR_WNH"
      },
      "source": [
        "##### After looking at the output above, here are some observations:\n",
        "\n",
        "\n",
        "*   There are number of text columns with 2 or fewer values\n",
        "*   The 'num_of_photos' column is numeric but its descriptive statistics are all zero. This column needs further investigating\n",
        "*   The 'price' and 'odometer' columns are numeric values stored as text\n",
        "\n"
      ]
    },
    {
      "cell_type": "code",
      "metadata": {
        "id": "QtmPDjFE_MjR",
        "colab": {
          "base_uri": "https://localhost:8080/"
        },
        "outputId": "baea4032-10d2-43b6-a266-e16c7ba4bf5d"
      },
      "source": [
        "# Of the number of text columns with 2 or fewer values, 'seller' and 'offer_type' are two \n",
        "# that wont further our analysis \n",
        "\n",
        "print(autos['seller'].value_counts())\n",
        "print()\n",
        "print(autos['seller'].head())\n",
        "print()\n",
        "print(autos['offer_type'].value_counts())\n",
        "print()\n",
        "print(autos['offer_type'].head())"
      ],
      "execution_count": 7,
      "outputs": [
        {
          "output_type": "stream",
          "text": [
            "privat        49999\n",
            "gewerblich        1\n",
            "Name: seller, dtype: int64\n",
            "\n",
            "0    privat\n",
            "1    privat\n",
            "2    privat\n",
            "3    privat\n",
            "4    privat\n",
            "Name: seller, dtype: object\n",
            "\n",
            "Angebot    49999\n",
            "Gesuch         1\n",
            "Name: offer_type, dtype: int64\n",
            "\n",
            "0    Angebot\n",
            "1    Angebot\n",
            "2    Angebot\n",
            "3    Angebot\n",
            "4    Angebot\n",
            "Name: offer_type, dtype: object\n"
          ],
          "name": "stdout"
        }
      ]
    },
    {
      "cell_type": "code",
      "metadata": {
        "id": "VXhX3009BfHy",
        "colab": {
          "base_uri": "https://localhost:8080/"
        },
        "outputId": "d9bae362-0d0e-4190-9300-30c7759635cb"
      },
      "source": [
        "# After investigating the 'num_of_photos' column further, we can see from the output that the column is filled with zeros.\n",
        "\n",
        "print(autos['num_of_photos'].value_counts())\n",
        "print()\n",
        "print(autos['num_of_photos'])"
      ],
      "execution_count": 8,
      "outputs": [
        {
          "output_type": "stream",
          "text": [
            "0    50000\n",
            "Name: num_of_photos, dtype: int64\n",
            "\n",
            "0        0\n",
            "1        0\n",
            "2        0\n",
            "3        0\n",
            "4        0\n",
            "        ..\n",
            "49995    0\n",
            "49996    0\n",
            "49997    0\n",
            "49998    0\n",
            "49999    0\n",
            "Name: num_of_photos, Length: 50000, dtype: int64\n"
          ],
          "name": "stdout"
        }
      ]
    },
    {
      "cell_type": "code",
      "metadata": {
        "id": "7CqSv_e0B8ZO"
      },
      "source": [
        "# Because the 3 columns referenced above aren't going to further our analysis, I will drop them from the dataset\n",
        "\n",
        "autos = autos.drop([\"num_of_photos\", \"seller\", \"offer_type\"], axis=1)"
      ],
      "execution_count": 9,
      "outputs": []
    },
    {
      "cell_type": "code",
      "metadata": {
        "id": "hjWXsbBxCZEu",
        "colab": {
          "base_uri": "https://localhost:8080/"
        },
        "outputId": "407940a9-b7ea-4d29-dfee-d2fc28fc55ba"
      },
      "source": [
        "# Checking our column names again to confirm the useless ones above were dropped\n",
        "\n",
        "autos.columns"
      ],
      "execution_count": 10,
      "outputs": [
        {
          "output_type": "execute_result",
          "data": {
            "text/plain": [
              "Index(['date_crawled', 'name', 'price', 'abtest', 'vehicle_type',\n",
              "       'registration_year', 'gear_box', 'power_ps', 'model', 'odometer',\n",
              "       'registration_month', 'fuelt_type', 'brand', 'unrepaired_damage',\n",
              "       'ad_created', 'postal_code', 'last_seen'],\n",
              "      dtype='object')"
            ]
          },
          "metadata": {
            "tags": []
          },
          "execution_count": 10
        }
      ]
    },
    {
      "cell_type": "code",
      "metadata": {
        "id": "k90RrvfP7T1E",
        "colab": {
          "base_uri": "https://localhost:8080/"
        },
        "outputId": "684befc5-f6d5-415d-9136-dedc1c8ebc99"
      },
      "source": [
        "# Now we'll convert the price and odometer columns to their proper numeric data type\n",
        "# To accomplish this task I will first remove any non-numeric characters (',', 'km', etc)\n",
        "# Then I will convert the text values to their proper numeric data type\n",
        "\n",
        "# Here is how each column looks like before conversion:\n",
        "\n",
        "print(autos['odometer'].head(3))\n",
        "print()\n",
        "print(autos['price'].head(3))"
      ],
      "execution_count": 11,
      "outputs": [
        {
          "output_type": "stream",
          "text": [
            "0    150,000km\n",
            "1    150,000km\n",
            "2     70,000km\n",
            "Name: odometer, dtype: object\n",
            "\n",
            "0    $5,000\n",
            "1    $8,500\n",
            "2    $8,990\n",
            "Name: price, dtype: object\n"
          ],
          "name": "stdout"
        }
      ]
    },
    {
      "cell_type": "code",
      "metadata": {
        "id": "NMwlWH-Y94-r",
        "colab": {
          "base_uri": "https://localhost:8080/"
        },
        "outputId": "0758341f-1360-49fc-8cea-9552ab880308"
      },
      "source": [
        "# Notice all of the non-numeric characters in the above output\n",
        "\n",
        "# The code below replaces the non-numeric characters and converts both columns to their proper data types\n",
        "\n",
        "autos['odometer'] = autos['odometer'].str.replace('km', '').str.replace(',', '').astype(int)\n",
        "autos['price'] = autos['price'].str.replace('$', '').str.replace(',', '').astype(int)\n",
        "\n",
        "# Here is how they columns look after converison\n",
        "\n",
        "print(autos['odometer'].head(3))\n",
        "print()\n",
        "print(autos['price'].head(3))\n"
      ],
      "execution_count": 12,
      "outputs": [
        {
          "output_type": "stream",
          "text": [
            "0    150000\n",
            "1    150000\n",
            "2     70000\n",
            "Name: odometer, dtype: int64\n",
            "\n",
            "0    5000\n",
            "1    8500\n",
            "2    8990\n",
            "Name: price, dtype: int64\n"
          ],
          "name": "stdout"
        }
      ]
    },
    {
      "cell_type": "code",
      "metadata": {
        "id": "8ZaWU0dJ940q",
        "colab": {
          "base_uri": "https://localhost:8080/"
        },
        "outputId": "5ad7326e-c302-41b9-cd3d-3430f2d0ee1e"
      },
      "source": [
        "# Since we removed the 'km' from the odometer column values, I will add it back to the column name to be more descriptive \n",
        "\n",
        "autos.rename({'odometer': 'odometer_km'}, axis = 1, inplace = True)\n",
        "\n",
        "autos.columns"
      ],
      "execution_count": 13,
      "outputs": [
        {
          "output_type": "execute_result",
          "data": {
            "text/plain": [
              "Index(['date_crawled', 'name', 'price', 'abtest', 'vehicle_type',\n",
              "       'registration_year', 'gear_box', 'power_ps', 'model', 'odometer_km',\n",
              "       'registration_month', 'fuelt_type', 'brand', 'unrepaired_damage',\n",
              "       'ad_created', 'postal_code', 'last_seen'],\n",
              "      dtype='object')"
            ]
          },
          "metadata": {
            "tags": []
          },
          "execution_count": 13
        }
      ]
    },
    {
      "cell_type": "markdown",
      "metadata": {
        "id": "ehls1bKpGjND"
      },
      "source": [
        "# Exploring the Odometer and Price Columns Further\n",
        "\n",
        "### Checking For Outliers\n",
        "\n"
      ]
    },
    {
      "cell_type": "code",
      "metadata": {
        "id": "oCv-uvvQGY1s",
        "colab": {
          "base_uri": "https://localhost:8080/"
        },
        "outputId": "5676e5bc-b700-45e0-b27a-772150766b53"
      },
      "source": [
        "print(autos['odometer_km'].shape)  # returns the number of values in this column\n",
        "print()\n",
        "print(autos['odometer_km'].describe())  # returns descriptive statistics of the values in the column\n",
        "print()\n",
        "print(autos['odometer_km'].value_counts().sort_index(ascending = False))  # returns count of unique values"
      ],
      "execution_count": 14,
      "outputs": [
        {
          "output_type": "stream",
          "text": [
            "(50000,)\n",
            "\n",
            "count     50000.000000\n",
            "mean     125732.700000\n",
            "std       40042.211706\n",
            "min        5000.000000\n",
            "25%      125000.000000\n",
            "50%      150000.000000\n",
            "75%      150000.000000\n",
            "max      150000.000000\n",
            "Name: odometer_km, dtype: float64\n",
            "\n",
            "150000    32424\n",
            "125000     5170\n",
            "100000     2169\n",
            "90000      1757\n",
            "80000      1436\n",
            "70000      1230\n",
            "60000      1164\n",
            "50000      1027\n",
            "40000       819\n",
            "30000       789\n",
            "20000       784\n",
            "10000       264\n",
            "5000        967\n",
            "Name: odometer_km, dtype: int64\n"
          ],
          "name": "stdout"
        }
      ]
    },
    {
      "cell_type": "markdown",
      "metadata": {
        "id": "vvrYBYC5mBnh"
      },
      "source": [
        "##### Looking at the above output I notice a few things:\n",
        "\n",
        "* We have 50000 values in the 'odometer_km' column which means we don't have any missing values\n",
        "\n",
        "* The odometers seem to be rounded but not sure why\n",
        "\n",
        "* The vast majority of used cars in our dataset are high mileage vehicles\n",
        "\n",
        "* Outside of those observations, the 'odometer_km' column doesn't seem to have any outliers"
      ]
    },
    {
      "cell_type": "code",
      "metadata": {
        "id": "y9SdggtwGYzJ",
        "colab": {
          "base_uri": "https://localhost:8080/"
        },
        "outputId": "ca0e8a5c-d266-4d8e-cf03-0e0f1946756e"
      },
      "source": [
        "print(autos['price'].shape)\n",
        "print()\n",
        "print(autos['price'].describe())\n",
        "print()\n",
        "print(autos['price'].value_counts().sort_index(ascending = False).head(20))\n",
        "print()\n",
        "print(autos['price'].value_counts().sort_index(ascending = False).tail(20))"
      ],
      "execution_count": 15,
      "outputs": [
        {
          "output_type": "stream",
          "text": [
            "(50000,)\n",
            "\n",
            "count    5.000000e+04\n",
            "mean     9.840044e+03\n",
            "std      4.811044e+05\n",
            "min      0.000000e+00\n",
            "25%      1.100000e+03\n",
            "50%      2.950000e+03\n",
            "75%      7.200000e+03\n",
            "max      1.000000e+08\n",
            "Name: price, dtype: float64\n",
            "\n",
            "99999999    1\n",
            "27322222    1\n",
            "12345678    3\n",
            "11111111    2\n",
            "10000000    1\n",
            "3890000     1\n",
            "1300000     1\n",
            "1234566     1\n",
            "999999      2\n",
            "999990      1\n",
            "350000      1\n",
            "345000      1\n",
            "299000      1\n",
            "295000      1\n",
            "265000      1\n",
            "259000      1\n",
            "250000      1\n",
            "220000      1\n",
            "198000      1\n",
            "197000      1\n",
            "Name: price, dtype: int64\n",
            "\n",
            "35       1\n",
            "30       7\n",
            "29       1\n",
            "25       5\n",
            "20       4\n",
            "18       1\n",
            "17       3\n",
            "15       2\n",
            "14       1\n",
            "13       2\n",
            "12       3\n",
            "11       2\n",
            "10       7\n",
            "9        1\n",
            "8        1\n",
            "5        2\n",
            "3        1\n",
            "2        3\n",
            "1      156\n",
            "0     1421\n",
            "Name: price, dtype: int64\n"
          ],
          "name": "stdout"
        }
      ]
    },
    {
      "cell_type": "markdown",
      "metadata": {
        "id": "OTETz138p90j"
      },
      "source": [
        "##### After looking at the output above, I noticed a number of things:\n",
        "\n",
        "* For an auction site, there seems to be a lot of cars sold for nothing\n",
        "* Prices also seem to be rounded, again not sure why but could be users prefer to deal with round numbers?\n",
        "* There is a huge jump in price after 350,000\n",
        "\n",
        "##### Unlike the 'odometer_km' column, the 'price' column has a fair bit of outliers. Aside from the 1421 cars priced at 0, there's a fair bit of outliers showing for cars that have been sold above 350,000. Because prices seem to nonesensically spike after 350,000, we're going to consider those values outliers and remove them from our analysis."
      ]
    },
    {
      "cell_type": "code",
      "metadata": {
        "id": "ae3tspQXoYYZ",
        "colab": {
          "base_uri": "https://localhost:8080/",
          "height": 288
        },
        "outputId": "5f66c29c-f9e7-4576-c26b-456dc9ece8f7"
      },
      "source": [
        "# The code below will filter out the outliers from the 'price' column\n",
        "\n",
        "autos[autos['price'].between(1, 351000)].describe()"
      ],
      "execution_count": 16,
      "outputs": [
        {
          "output_type": "execute_result",
          "data": {
            "text/html": [
              "<div>\n",
              "<style scoped>\n",
              "    .dataframe tbody tr th:only-of-type {\n",
              "        vertical-align: middle;\n",
              "    }\n",
              "\n",
              "    .dataframe tbody tr th {\n",
              "        vertical-align: top;\n",
              "    }\n",
              "\n",
              "    .dataframe thead th {\n",
              "        text-align: right;\n",
              "    }\n",
              "</style>\n",
              "<table border=\"1\" class=\"dataframe\">\n",
              "  <thead>\n",
              "    <tr style=\"text-align: right;\">\n",
              "      <th></th>\n",
              "      <th>price</th>\n",
              "      <th>registration_year</th>\n",
              "      <th>power_ps</th>\n",
              "      <th>odometer_km</th>\n",
              "      <th>registration_month</th>\n",
              "      <th>postal_code</th>\n",
              "    </tr>\n",
              "  </thead>\n",
              "  <tbody>\n",
              "    <tr>\n",
              "      <th>count</th>\n",
              "      <td>48565.000000</td>\n",
              "      <td>48565.000000</td>\n",
              "      <td>48565.000000</td>\n",
              "      <td>48565.000000</td>\n",
              "      <td>48565.000000</td>\n",
              "      <td>48565.000000</td>\n",
              "    </tr>\n",
              "    <tr>\n",
              "      <th>mean</th>\n",
              "      <td>5888.935591</td>\n",
              "      <td>2004.755421</td>\n",
              "      <td>117.197158</td>\n",
              "      <td>125770.101925</td>\n",
              "      <td>5.782251</td>\n",
              "      <td>50975.745207</td>\n",
              "    </tr>\n",
              "    <tr>\n",
              "      <th>std</th>\n",
              "      <td>9059.854754</td>\n",
              "      <td>88.643887</td>\n",
              "      <td>200.649618</td>\n",
              "      <td>39788.636804</td>\n",
              "      <td>3.685595</td>\n",
              "      <td>25746.968398</td>\n",
              "    </tr>\n",
              "    <tr>\n",
              "      <th>min</th>\n",
              "      <td>1.000000</td>\n",
              "      <td>1000.000000</td>\n",
              "      <td>0.000000</td>\n",
              "      <td>5000.000000</td>\n",
              "      <td>0.000000</td>\n",
              "      <td>1067.000000</td>\n",
              "    </tr>\n",
              "    <tr>\n",
              "      <th>25%</th>\n",
              "      <td>1200.000000</td>\n",
              "      <td>1999.000000</td>\n",
              "      <td>71.000000</td>\n",
              "      <td>125000.000000</td>\n",
              "      <td>3.000000</td>\n",
              "      <td>30657.000000</td>\n",
              "    </tr>\n",
              "    <tr>\n",
              "      <th>50%</th>\n",
              "      <td>3000.000000</td>\n",
              "      <td>2004.000000</td>\n",
              "      <td>107.000000</td>\n",
              "      <td>150000.000000</td>\n",
              "      <td>6.000000</td>\n",
              "      <td>49716.000000</td>\n",
              "    </tr>\n",
              "    <tr>\n",
              "      <th>75%</th>\n",
              "      <td>7490.000000</td>\n",
              "      <td>2008.000000</td>\n",
              "      <td>150.000000</td>\n",
              "      <td>150000.000000</td>\n",
              "      <td>9.000000</td>\n",
              "      <td>71665.000000</td>\n",
              "    </tr>\n",
              "    <tr>\n",
              "      <th>max</th>\n",
              "      <td>350000.000000</td>\n",
              "      <td>9999.000000</td>\n",
              "      <td>17700.000000</td>\n",
              "      <td>150000.000000</td>\n",
              "      <td>12.000000</td>\n",
              "      <td>99998.000000</td>\n",
              "    </tr>\n",
              "  </tbody>\n",
              "</table>\n",
              "</div>"
            ],
            "text/plain": [
              "               price  registration_year  ...  registration_month   postal_code\n",
              "count   48565.000000       48565.000000  ...        48565.000000  48565.000000\n",
              "mean     5888.935591        2004.755421  ...            5.782251  50975.745207\n",
              "std      9059.854754          88.643887  ...            3.685595  25746.968398\n",
              "min         1.000000        1000.000000  ...            0.000000   1067.000000\n",
              "25%      1200.000000        1999.000000  ...            3.000000  30657.000000\n",
              "50%      3000.000000        2004.000000  ...            6.000000  49716.000000\n",
              "75%      7490.000000        2008.000000  ...            9.000000  71665.000000\n",
              "max    350000.000000        9999.000000  ...           12.000000  99998.000000\n",
              "\n",
              "[8 rows x 6 columns]"
            ]
          },
          "metadata": {
            "tags": []
          },
          "execution_count": 16
        }
      ]
    },
    {
      "cell_type": "markdown",
      "metadata": {
        "id": "MGo8Tam1vLjR"
      },
      "source": [
        "##### Notice how the count has changed from 50,000 to 48,565. Also notice the mean, median (50%), min, and max statistics have all changed."
      ]
    },
    {
      "cell_type": "markdown",
      "metadata": {
        "id": "IKjR5qSEwSdd"
      },
      "source": [
        "# Exploring the Date Columns"
      ]
    },
    {
      "cell_type": "markdown",
      "metadata": {
        "id": "m7UdkBU7ylwy"
      },
      "source": [
        "##### There are 5 columns in our dataset that represent date values. Some of these values were created by the individual who created the dataset and some values were created by the website being scraped. We can refer to the data dictionary to differentiate these values:\n",
        "\n",
        "  - `date_crawled` : added by the crawler\n",
        "  - `last_seen` : added by the crawler\n",
        "  - `ad_created` : from the website\n",
        "  - `registration_month` : from the website\n",
        "  - `registration_year` : from the website\n",
        "\n",
        "##### The 'date_crawled', 'last_seen', and 'ad_created' columns are all identified as string values by pandas. As a result, we need to convert the data into a numerical representation so we can understand it quantitatively. Lets get started."
      ]
    },
    {
      "cell_type": "code",
      "metadata": {
        "colab": {
          "base_uri": "https://localhost:8080/",
          "height": 198
        },
        "id": "zUJOUXK2qVvl",
        "outputId": "861989e7-95eb-433e-e390-c8916c495676"
      },
      "source": [
        "# First lets take a quick look at our 3 columns of interest to see \n",
        "# how the values in each column are formatted\n",
        "\n",
        "autos[['date_crawled', 'last_seen', 'ad_created']][:5]"
      ],
      "execution_count": 21,
      "outputs": [
        {
          "output_type": "execute_result",
          "data": {
            "text/html": [
              "<div>\n",
              "<style scoped>\n",
              "    .dataframe tbody tr th:only-of-type {\n",
              "        vertical-align: middle;\n",
              "    }\n",
              "\n",
              "    .dataframe tbody tr th {\n",
              "        vertical-align: top;\n",
              "    }\n",
              "\n",
              "    .dataframe thead th {\n",
              "        text-align: right;\n",
              "    }\n",
              "</style>\n",
              "<table border=\"1\" class=\"dataframe\">\n",
              "  <thead>\n",
              "    <tr style=\"text-align: right;\">\n",
              "      <th></th>\n",
              "      <th>date_crawled</th>\n",
              "      <th>last_seen</th>\n",
              "      <th>ad_created</th>\n",
              "    </tr>\n",
              "  </thead>\n",
              "  <tbody>\n",
              "    <tr>\n",
              "      <th>0</th>\n",
              "      <td>2016-03-26 17:47:46</td>\n",
              "      <td>2016-04-06 06:45:54</td>\n",
              "      <td>2016-03-26 00:00:00</td>\n",
              "    </tr>\n",
              "    <tr>\n",
              "      <th>1</th>\n",
              "      <td>2016-04-04 13:38:56</td>\n",
              "      <td>2016-04-06 14:45:08</td>\n",
              "      <td>2016-04-04 00:00:00</td>\n",
              "    </tr>\n",
              "    <tr>\n",
              "      <th>2</th>\n",
              "      <td>2016-03-26 18:57:24</td>\n",
              "      <td>2016-04-06 20:15:37</td>\n",
              "      <td>2016-03-26 00:00:00</td>\n",
              "    </tr>\n",
              "    <tr>\n",
              "      <th>3</th>\n",
              "      <td>2016-03-12 16:58:10</td>\n",
              "      <td>2016-03-15 03:16:28</td>\n",
              "      <td>2016-03-12 00:00:00</td>\n",
              "    </tr>\n",
              "    <tr>\n",
              "      <th>4</th>\n",
              "      <td>2016-04-01 14:38:50</td>\n",
              "      <td>2016-04-01 14:38:50</td>\n",
              "      <td>2016-04-01 00:00:00</td>\n",
              "    </tr>\n",
              "  </tbody>\n",
              "</table>\n",
              "</div>"
            ],
            "text/plain": [
              "          date_crawled            last_seen           ad_created\n",
              "0  2016-03-26 17:47:46  2016-04-06 06:45:54  2016-03-26 00:00:00\n",
              "1  2016-04-04 13:38:56  2016-04-06 14:45:08  2016-04-04 00:00:00\n",
              "2  2016-03-26 18:57:24  2016-04-06 20:15:37  2016-03-26 00:00:00\n",
              "3  2016-03-12 16:58:10  2016-03-15 03:16:28  2016-03-12 00:00:00\n",
              "4  2016-04-01 14:38:50  2016-04-01 14:38:50  2016-04-01 00:00:00"
            ]
          },
          "metadata": {
            "tags": []
          },
          "execution_count": 21
        }
      ]
    },
    {
      "cell_type": "markdown",
      "metadata": {
        "id": "OxRgaeF-r1Eb"
      },
      "source": [
        "###### Notice from the output that the first 10 characters represent the day (e.g. 2016-03-26). To better understand the date range, I will extract just the date values to generate a distribution where I'll sort by index and values."
      ]
    },
    {
      "cell_type": "code",
      "metadata": {
        "id": "_9kedFj2vESS",
        "colab": {
          "base_uri": "https://localhost:8080/"
        },
        "outputId": "b017f0b5-234a-446e-a6b6-2ccc51f01af4"
      },
      "source": [
        "# The code below extracts the first 10 characters from the date time values\n",
        "\n",
        "print(autos['date_crawled'].str[:10])\n",
        "print()\n",
        "print(autos['last_seen'].str[:10])\n",
        "print()\n",
        "print(autos['ad_created'].str[:10])"
      ],
      "execution_count": 18,
      "outputs": [
        {
          "output_type": "stream",
          "text": [
            "0        2016-03-26\n",
            "1        2016-04-04\n",
            "2        2016-03-26\n",
            "3        2016-03-12\n",
            "4        2016-04-01\n",
            "            ...    \n",
            "49995    2016-03-27\n",
            "49996    2016-03-28\n",
            "49997    2016-04-02\n",
            "49998    2016-03-08\n",
            "49999    2016-03-14\n",
            "Name: date_crawled, Length: 50000, dtype: object\n",
            "\n",
            "0        2016-04-06\n",
            "1        2016-04-06\n",
            "2        2016-04-06\n",
            "3        2016-03-15\n",
            "4        2016-04-01\n",
            "            ...    \n",
            "49995    2016-04-01\n",
            "49996    2016-04-02\n",
            "49997    2016-04-04\n",
            "49998    2016-04-05\n",
            "49999    2016-04-06\n",
            "Name: last_seen, Length: 50000, dtype: object\n",
            "\n",
            "0        2016-03-26\n",
            "1        2016-04-04\n",
            "2        2016-03-26\n",
            "3        2016-03-12\n",
            "4        2016-04-01\n",
            "            ...    \n",
            "49995    2016-03-27\n",
            "49996    2016-03-28\n",
            "49997    2016-04-02\n",
            "49998    2016-03-08\n",
            "49999    2016-03-13\n",
            "Name: ad_created, Length: 50000, dtype: object\n"
          ],
          "name": "stdout"
        }
      ]
    },
    {
      "cell_type": "code",
      "metadata": {
        "id": "5nI5xMSo0IQk",
        "colab": {
          "base_uri": "https://localhost:8080/"
        },
        "outputId": "b815eb3c-5106-444c-ebb1-9a7c1acd5be5"
      },
      "source": [
        "# The code below outputs the distribution of values in the 'date_crawled' column\n",
        "# It also outputs the relative frequency of the values in the 'date_crawled' column'\n",
        "\n",
        "autos['date_crawled'].str[:10].value_counts(normalize = True, dropna = False).sort_index()"
      ],
      "execution_count": 23,
      "outputs": [
        {
          "output_type": "execute_result",
          "data": {
            "text/plain": [
              "2016-03-05    0.02538\n",
              "2016-03-06    0.01394\n",
              "2016-03-07    0.03596\n",
              "2016-03-08    0.03330\n",
              "2016-03-09    0.03322\n",
              "2016-03-10    0.03212\n",
              "2016-03-11    0.03248\n",
              "2016-03-12    0.03678\n",
              "2016-03-13    0.01556\n",
              "2016-03-14    0.03662\n",
              "2016-03-15    0.03398\n",
              "2016-03-16    0.02950\n",
              "2016-03-17    0.03152\n",
              "2016-03-18    0.01306\n",
              "2016-03-19    0.03490\n",
              "2016-03-20    0.03782\n",
              "2016-03-21    0.03752\n",
              "2016-03-22    0.03294\n",
              "2016-03-23    0.03238\n",
              "2016-03-24    0.02910\n",
              "2016-03-25    0.03174\n",
              "2016-03-26    0.03248\n",
              "2016-03-27    0.03104\n",
              "2016-03-28    0.03484\n",
              "2016-03-29    0.03418\n",
              "2016-03-30    0.03362\n",
              "2016-03-31    0.03192\n",
              "2016-04-01    0.03380\n",
              "2016-04-02    0.03540\n",
              "2016-04-03    0.03868\n",
              "2016-04-04    0.03652\n",
              "2016-04-05    0.01310\n",
              "2016-04-06    0.00318\n",
              "2016-04-07    0.00142\n",
              "Name: date_crawled, dtype: float64"
            ]
          },
          "metadata": {
            "tags": []
          },
          "execution_count": 23
        }
      ]
    },
    {
      "cell_type": "code",
      "metadata": {
        "id": "D0ik9bbZ0pI5",
        "colab": {
          "base_uri": "https://localhost:8080/"
        },
        "outputId": "0639b8d9-5c85-4863-ceba-da2c4c350770"
      },
      "source": [
        "# The below code produces the same output as the code above but sorts the output by values in descending order\n",
        "\n",
        "autos['date_crawled'].str[:10].value_counts(normalize = True, dropna = False).sort_values(ascending = False)"
      ],
      "execution_count": 20,
      "outputs": [
        {
          "output_type": "execute_result",
          "data": {
            "text/plain": [
              "2016-04-03    0.03868\n",
              "2016-03-20    0.03782\n",
              "2016-03-21    0.03752\n",
              "2016-03-12    0.03678\n",
              "2016-03-14    0.03662\n",
              "2016-04-04    0.03652\n",
              "2016-03-07    0.03596\n",
              "2016-04-02    0.03540\n",
              "2016-03-19    0.03490\n",
              "2016-03-28    0.03484\n",
              "2016-03-29    0.03418\n",
              "2016-03-15    0.03398\n",
              "2016-04-01    0.03380\n",
              "2016-03-30    0.03362\n",
              "2016-03-08    0.03330\n",
              "2016-03-09    0.03322\n",
              "2016-03-22    0.03294\n",
              "2016-03-11    0.03248\n",
              "2016-03-26    0.03248\n",
              "2016-03-23    0.03238\n",
              "2016-03-10    0.03212\n",
              "2016-03-31    0.03192\n",
              "2016-03-25    0.03174\n",
              "2016-03-17    0.03152\n",
              "2016-03-27    0.03104\n",
              "2016-03-16    0.02950\n",
              "2016-03-24    0.02910\n",
              "2016-03-05    0.02538\n",
              "2016-03-13    0.01556\n",
              "2016-03-06    0.01394\n",
              "2016-04-05    0.01310\n",
              "2016-03-18    0.01306\n",
              "2016-04-06    0.00318\n",
              "2016-04-07    0.00142\n",
              "Name: date_crawled, dtype: float64"
            ]
          },
          "metadata": {
            "tags": []
          },
          "execution_count": 20
        }
      ]
    },
    {
      "cell_type": "markdown",
      "metadata": {
        "id": "u6Ed1L_nv9fH"
      },
      "source": [
        "##### After exploring the distribution of the values within the 'date_crawled' column further, we observe that the crawler was used daily for about a month (2016-03-05 to 2016-04-07). We also observe the listings crawled on each day is roughly uniform.\n",
        "\n",
        "##### Lets move on to the next column -- 'last_seen'"
      ]
    },
    {
      "cell_type": "code",
      "metadata": {
        "colab": {
          "base_uri": "https://localhost:8080/"
        },
        "id": "Ts2WS2sAvkhK",
        "outputId": "92c223e6-b608-40ad-915e-6c41a0e4d12b"
      },
      "source": [
        "autos['last_seen'].str[:10].value_counts(normalize = True, dropna = False).sort_index()"
      ],
      "execution_count": 42,
      "outputs": [
        {
          "output_type": "execute_result",
          "data": {
            "text/plain": [
              "2016-03-05    0.00108\n",
              "2016-03-06    0.00442\n",
              "2016-03-07    0.00536\n",
              "2016-03-08    0.00760\n",
              "2016-03-09    0.00986\n",
              "2016-03-10    0.01076\n",
              "2016-03-11    0.01252\n",
              "2016-03-12    0.02382\n",
              "2016-03-13    0.00898\n",
              "2016-03-14    0.01280\n",
              "2016-03-15    0.01588\n",
              "2016-03-16    0.01644\n",
              "2016-03-17    0.02792\n",
              "2016-03-18    0.00742\n",
              "2016-03-19    0.01574\n",
              "2016-03-20    0.02070\n",
              "2016-03-21    0.02074\n",
              "2016-03-22    0.02158\n",
              "2016-03-23    0.01858\n",
              "2016-03-24    0.01956\n",
              "2016-03-25    0.01920\n",
              "2016-03-26    0.01696\n",
              "2016-03-27    0.01602\n",
              "2016-03-28    0.02086\n",
              "2016-03-29    0.02234\n",
              "2016-03-30    0.02484\n",
              "2016-03-31    0.02384\n",
              "2016-04-01    0.02310\n",
              "2016-04-02    0.02490\n",
              "2016-04-03    0.02536\n",
              "2016-04-04    0.02462\n",
              "2016-04-05    0.12428\n",
              "2016-04-06    0.22100\n",
              "2016-04-07    0.13092\n",
              "Name: last_seen, dtype: float64"
            ]
          },
          "metadata": {
            "tags": []
          },
          "execution_count": 42
        }
      ]
    },
    {
      "cell_type": "markdown",
      "metadata": {
        "id": "ythCLkhN0T9P"
      },
      "source": [
        "##### The values in this column represent the last time the crawler saw any listings which allows us to determine what day a listing may have been removed, presumably because the car was sold. \n",
        "\n",
        "##### The last three days contain a disproportionate amount of 'last seen' values. Given that these are 6-10x the values from the previous days, it's unlikely that there was a massive spike in sales, and more likely that these values are to do with the crawling period ending and don't indicate car sales."
      ]
    },
    {
      "cell_type": "code",
      "metadata": {
        "colab": {
          "base_uri": "https://localhost:8080/"
        },
        "id": "9JhljaLRvlEA",
        "outputId": "5bab0c22-ed79-42d0-95bd-752581dd2b6a"
      },
      "source": [
        "autos['ad_created'].str[:10].value_counts(normalize = True, dropna = False).sort_index()"
      ],
      "execution_count": 41,
      "outputs": [
        {
          "output_type": "execute_result",
          "data": {
            "text/plain": [
              "2015-06-11    0.00002\n",
              "2015-08-10    0.00002\n",
              "2015-09-09    0.00002\n",
              "2015-11-10    0.00002\n",
              "2015-12-05    0.00002\n",
              "               ...   \n",
              "2016-04-03    0.03892\n",
              "2016-04-04    0.03688\n",
              "2016-04-05    0.01184\n",
              "2016-04-06    0.00326\n",
              "2016-04-07    0.00128\n",
              "Name: ad_created, Length: 76, dtype: float64"
            ]
          },
          "metadata": {
            "tags": []
          },
          "execution_count": 41
        }
      ]
    },
    {
      "cell_type": "markdown",
      "metadata": {
        "id": "GCJU48ZIykGy"
      },
      "source": [
        "##### With the 'ad_created' column, we observe a wide variety of ad created dates. Most of these tend to fall within 1-2 months of the listing date but others are a lot older."
      ]
    },
    {
      "cell_type": "code",
      "metadata": {
        "colab": {
          "base_uri": "https://localhost:8080/"
        },
        "id": "9-_R-M63vkeu",
        "outputId": "98810be3-6051-422f-8738-548c68a9075a"
      },
      "source": [
        "autos['registration_year'].describe()"
      ],
      "execution_count": 43,
      "outputs": [
        {
          "output_type": "execute_result",
          "data": {
            "text/plain": [
              "count    50000.000000\n",
              "mean      2005.073280\n",
              "std        105.712813\n",
              "min       1000.000000\n",
              "25%       1999.000000\n",
              "50%       2003.000000\n",
              "75%       2008.000000\n",
              "max       9999.000000\n",
              "Name: registration_year, dtype: float64"
            ]
          },
          "metadata": {
            "tags": []
          },
          "execution_count": 43
        }
      ]
    },
    {
      "cell_type": "markdown",
      "metadata": {
        "id": "jlz1Rc0H2Yp8"
      },
      "source": [
        "##### Looking at the output from the 'registration_year' column, which indicates the age of the car, we see some odd things. We notice the min value is 1000 which is long before cars were invented and the max value is 9999 which is long into the future. \n",
        "\n",
        "##### Lets look into the 'registration_year' column further."
      ]
    },
    {
      "cell_type": "markdown",
      "metadata": {
        "id": "v2pQUU3r3O0p"
      },
      "source": [
        "# Dealing with Incorrect Registration Year Data\n",
        "\n",
        "##### As I pointed out above,the min and max year values for the registration_year column are odd. Because a car can't be first registered until after the listing was seen, any vehicle with a registration year above 2016 is wrong. Figuring out the earliest valid year is more difficult as it could realistically be as far back as 1900's. \n",
        "\n",
        "##### I'm going to count the number of listings with cars that fall outside of 1900-2016 interval and see if removing those rows entirely is safe or not."
      ]
    },
    {
      "cell_type": "code",
      "metadata": {
        "colab": {
          "base_uri": "https://localhost:8080/"
        },
        "id": "KdODE7fI2x74",
        "outputId": "728080df-6061-4eef-e564-88136a081b44"
      },
      "source": [
        "(~autos['registration_year'].between(1900, 2016)).sum() / autos.shape[0]"
      ],
      "execution_count": 57,
      "outputs": [
        {
          "output_type": "execute_result",
          "data": {
            "text/plain": [
              "0.03944"
            ]
          },
          "metadata": {
            "tags": []
          },
          "execution_count": 57
        }
      ]
    },
    {
      "cell_type": "markdown",
      "metadata": {
        "id": "EBYzRhjZ5X38"
      },
      "source": [
        "##### We can see from the output above that when we remove any rows outside of out 1900-2016 interval, we're removing effectively ~4% of our data which isn't much. As a result, we'll remove these rows."
      ]
    },
    {
      "cell_type": "code",
      "metadata": {
        "colab": {
          "base_uri": "https://localhost:8080/"
        },
        "id": "uTnFukiX4Plp",
        "outputId": "306d9104-8ab7-4929-acf9-569ee4e62e9d"
      },
      "source": [
        "autos = autos[autos[\"registration_year\"].between(1900,2016)]\n",
        "autos[\"registration_year\"].value_counts(normalize=True).head(10)"
      ],
      "execution_count": 58,
      "outputs": [
        {
          "output_type": "execute_result",
          "data": {
            "text/plain": [
              "2000    0.069834\n",
              "2005    0.062776\n",
              "1999    0.062464\n",
              "2004    0.056988\n",
              "2003    0.056779\n",
              "2006    0.056384\n",
              "2001    0.056280\n",
              "2002    0.052740\n",
              "1998    0.051074\n",
              "2007    0.047972\n",
              "Name: registration_year, dtype: float64"
            ]
          },
          "metadata": {
            "tags": []
          },
          "execution_count": 58
        }
      ]
    },
    {
      "cell_type": "markdown",
      "metadata": {
        "id": "UsFv-bP051IT"
      },
      "source": [
        "We can see from the output above that most of the vehicles were first registered in the past 20 years."
      ]
    },
    {
      "cell_type": "markdown",
      "metadata": {
        "id": "A-NUqsyl58Vk"
      },
      "source": [
        "# Exploring Price by Brand\n",
        "\n",
        "##### In this section, I will use aggregation techniques to analyze and get a better understanding of the 'brand' column."
      ]
    },
    {
      "cell_type": "code",
      "metadata": {
        "colab": {
          "base_uri": "https://localhost:8080/"
        },
        "id": "MKHispTL56E9",
        "outputId": "87c07616-9bf1-4e0a-dd7f-ac3a6a34db2c"
      },
      "source": [
        "# Lets take a look at the values in our 'brand' column\n",
        "\n",
        "print(autos['brand'].unique())\n",
        "print()\n",
        "print(autos['brand'].value_counts(normalize = True))"
      ],
      "execution_count": 68,
      "outputs": [
        {
          "output_type": "stream",
          "text": [
            "['peugeot' 'bmw' 'volkswagen' 'smart' 'ford' 'chrysler' 'seat' 'renault'\n",
            " 'mercedes_benz' 'audi' 'sonstige_autos' 'opel' 'mazda' 'porsche' 'mini'\n",
            " 'toyota' 'dacia' 'nissan' 'jeep' 'saab' 'volvo' 'mitsubishi' 'jaguar'\n",
            " 'fiat' 'skoda' 'subaru' 'kia' 'citroen' 'chevrolet' 'hyundai' 'honda'\n",
            " 'daewoo' 'suzuki' 'trabant' 'land_rover' 'alfa_romeo' 'lada' 'rover'\n",
            " 'daihatsu' 'lancia']\n",
            "\n",
            "volkswagen        0.212126\n",
            "bmw               0.110019\n",
            "opel              0.108166\n",
            "mercedes_benz     0.095361\n",
            "audi              0.086387\n",
            "ford              0.069793\n",
            "renault           0.047347\n",
            "peugeot           0.029524\n",
            "fiat              0.025860\n",
            "seat              0.018177\n",
            "skoda             0.016032\n",
            "mazda             0.015137\n",
            "nissan            0.015095\n",
            "citroen           0.013929\n",
            "smart             0.013909\n",
            "toyota            0.012472\n",
            "sonstige_autos    0.010952\n",
            "hyundai           0.009848\n",
            "volvo             0.009245\n",
            "mini              0.008641\n",
            "mitsubishi        0.008141\n",
            "honda             0.007850\n",
            "kia               0.007100\n",
            "alfa_romeo        0.006621\n",
            "porsche           0.006101\n",
            "suzuki            0.005913\n",
            "chevrolet         0.005705\n",
            "chrysler          0.003665\n",
            "daihatsu          0.002561\n",
            "dacia             0.002561\n",
            "jeep              0.002249\n",
            "subaru            0.002186\n",
            "land_rover        0.002040\n",
            "saab              0.001603\n",
            "jaguar            0.001582\n",
            "trabant           0.001562\n",
            "daewoo            0.001499\n",
            "rover             0.001353\n",
            "lancia            0.001083\n",
            "lada              0.000604\n",
            "Name: brand, dtype: float64\n"
          ],
          "name": "stdout"
        }
      ]
    },
    {
      "cell_type": "markdown",
      "metadata": {
        "id": "xy0Q5ZYH7ubH"
      },
      "source": [
        "##### We can see from our output above that in Germany, there are around 40 different brands of vehicles. Not surprisingly, 4 out of the top 5 car brands are all German manufactures. Volkswagon is by far the most popular car being listed at approximately double the rate of the next two car brands combined. \n",
        "\n",
        "##### Because there are a lot of brands without a siginificant percentage of listings, I'll limit the rest of my analysis to brands representing more than 5% of the total listings. "
      ]
    },
    {
      "cell_type": "code",
      "metadata": {
        "colab": {
          "base_uri": "https://localhost:8080/"
        },
        "id": "6Aye392S7t7G",
        "outputId": "369a1a9b-2602-4e93-9ee8-ffd4dff6d6d5"
      },
      "source": [
        "brand_counts = autos[\"brand\"].value_counts(normalize=True)\n",
        "common_brands = brand_counts[brand_counts > .05].index\n",
        "print(common_brands)"
      ],
      "execution_count": 69,
      "outputs": [
        {
          "output_type": "stream",
          "text": [
            "Index(['volkswagen', 'bmw', 'opel', 'mercedes_benz', 'audi', 'ford'], dtype='object')\n"
          ],
          "name": "stdout"
        }
      ]
    },
    {
      "cell_type": "code",
      "metadata": {
        "colab": {
          "base_uri": "https://localhost:8080/"
        },
        "id": "_Kp6mXm88zIb",
        "outputId": "202decb3-e2e5-4f2f-c8d2-070374feff3f"
      },
      "source": [
        "brand_mean_prices = {}\n",
        "\n",
        "for brand in common_brands:\n",
        "  brand_only = autos[autos['brand'] == brand]\n",
        "  mean_price = brand_only['price'].mean()\n",
        "  brand_mean_prices[brand] = int(mean_price)\n",
        "\n",
        "brand_mean_prices"
      ],
      "execution_count": 72,
      "outputs": [
        {
          "output_type": "execute_result",
          "data": {
            "text/plain": [
              "{'audi': 9093,\n",
              " 'bmw': 8334,\n",
              " 'ford': 7263,\n",
              " 'mercedes_benz': 30317,\n",
              " 'opel': 5252,\n",
              " 'volkswagen': 6516}"
            ]
          },
          "metadata": {
            "tags": []
          },
          "execution_count": 72
        }
      ]
    },
    {
      "cell_type": "markdown",
      "metadata": {
        "id": "8IS7WRCG9vAO"
      },
      "source": [
        "##### Of the top 5 brands we can see a clear distinction in the price gap:\n",
        "* Audi, BMW and Mercedes Benz are more expensive\n",
        "* Ford and Opel are less expensive\n",
        "* Volkswagen is in between - this may explain its popularity, it may be a 'best of 'both worlds' option."
      ]
    },
    {
      "cell_type": "markdown",
      "metadata": {
        "id": "HmLsnpeP-3lG"
      },
      "source": [
        "# Exploring Mileage Data\n",
        "\n",
        "##### In this last section, I'm going to explore the top 6 brands to better understand the average mileage for those cars and if there's any link with mean price. "
      ]
    },
    {
      "cell_type": "code",
      "metadata": {
        "colab": {
          "base_uri": "https://localhost:8080/",
          "height": 228
        },
        "id": "P60iX7H5-Urw",
        "outputId": "4d06e306-ae67-4f32-b108-7167a0c486da"
      },
      "source": [
        "bmp_series = pd.Series(brand_mean_prices)\n",
        "pd.DataFrame(bmp_series, columns=[\"mean_price\"])"
      ],
      "execution_count": 73,
      "outputs": [
        {
          "output_type": "execute_result",
          "data": {
            "text/html": [
              "<div>\n",
              "<style scoped>\n",
              "    .dataframe tbody tr th:only-of-type {\n",
              "        vertical-align: middle;\n",
              "    }\n",
              "\n",
              "    .dataframe tbody tr th {\n",
              "        vertical-align: top;\n",
              "    }\n",
              "\n",
              "    .dataframe thead th {\n",
              "        text-align: right;\n",
              "    }\n",
              "</style>\n",
              "<table border=\"1\" class=\"dataframe\">\n",
              "  <thead>\n",
              "    <tr style=\"text-align: right;\">\n",
              "      <th></th>\n",
              "      <th>mean_price</th>\n",
              "    </tr>\n",
              "  </thead>\n",
              "  <tbody>\n",
              "    <tr>\n",
              "      <th>volkswagen</th>\n",
              "      <td>6516</td>\n",
              "    </tr>\n",
              "    <tr>\n",
              "      <th>bmw</th>\n",
              "      <td>8334</td>\n",
              "    </tr>\n",
              "    <tr>\n",
              "      <th>opel</th>\n",
              "      <td>5252</td>\n",
              "    </tr>\n",
              "    <tr>\n",
              "      <th>mercedes_benz</th>\n",
              "      <td>30317</td>\n",
              "    </tr>\n",
              "    <tr>\n",
              "      <th>audi</th>\n",
              "      <td>9093</td>\n",
              "    </tr>\n",
              "    <tr>\n",
              "      <th>ford</th>\n",
              "      <td>7263</td>\n",
              "    </tr>\n",
              "  </tbody>\n",
              "</table>\n",
              "</div>"
            ],
            "text/plain": [
              "               mean_price\n",
              "volkswagen           6516\n",
              "bmw                  8334\n",
              "opel                 5252\n",
              "mercedes_benz       30317\n",
              "audi                 9093\n",
              "ford                 7263"
            ]
          },
          "metadata": {
            "tags": []
          },
          "execution_count": 73
        }
      ]
    },
    {
      "cell_type": "code",
      "metadata": {
        "id": "0QtkxlYn_DkQ"
      },
      "source": [
        "brand_mean_mileage = {}\n",
        "\n",
        "for brand in common_brands:\n",
        "    brand_only = autos[autos[\"brand\"] == brand]\n",
        "    mean_mileage = brand_only[\"odometer_km\"].mean()\n",
        "    brand_mean_mileage[brand] = int(mean_mileage)\n",
        "\n",
        "mean_mileage = pd.Series(brand_mean_mileage).sort_values(ascending=False)\n",
        "mean_prices = pd.Series(brand_mean_prices).sort_values(ascending=False)"
      ],
      "execution_count": 75,
      "outputs": []
    },
    {
      "cell_type": "code",
      "metadata": {
        "colab": {
          "base_uri": "https://localhost:8080/",
          "height": 228
        },
        "id": "S2eDNNZH_Jb5",
        "outputId": "e310db75-e7a8-4b0e-8e4f-051a1da6a6f0"
      },
      "source": [
        "brand_info = pd.DataFrame(mean_mileage,columns=['mean_mileage'])\n",
        "brand_info"
      ],
      "execution_count": 76,
      "outputs": [
        {
          "output_type": "execute_result",
          "data": {
            "text/html": [
              "<div>\n",
              "<style scoped>\n",
              "    .dataframe tbody tr th:only-of-type {\n",
              "        vertical-align: middle;\n",
              "    }\n",
              "\n",
              "    .dataframe tbody tr th {\n",
              "        vertical-align: top;\n",
              "    }\n",
              "\n",
              "    .dataframe thead th {\n",
              "        text-align: right;\n",
              "    }\n",
              "</style>\n",
              "<table border=\"1\" class=\"dataframe\">\n",
              "  <thead>\n",
              "    <tr style=\"text-align: right;\">\n",
              "      <th></th>\n",
              "      <th>mean_mileage</th>\n",
              "    </tr>\n",
              "  </thead>\n",
              "  <tbody>\n",
              "    <tr>\n",
              "      <th>bmw</th>\n",
              "      <td>132434</td>\n",
              "    </tr>\n",
              "    <tr>\n",
              "      <th>mercedes_benz</th>\n",
              "      <td>130860</td>\n",
              "    </tr>\n",
              "    <tr>\n",
              "      <th>audi</th>\n",
              "      <td>129287</td>\n",
              "    </tr>\n",
              "    <tr>\n",
              "      <th>opel</th>\n",
              "      <td>129227</td>\n",
              "    </tr>\n",
              "    <tr>\n",
              "      <th>volkswagen</th>\n",
              "      <td>128730</td>\n",
              "    </tr>\n",
              "    <tr>\n",
              "      <th>ford</th>\n",
              "      <td>124046</td>\n",
              "    </tr>\n",
              "  </tbody>\n",
              "</table>\n",
              "</div>"
            ],
            "text/plain": [
              "               mean_mileage\n",
              "bmw                  132434\n",
              "mercedes_benz        130860\n",
              "audi                 129287\n",
              "opel                 129227\n",
              "volkswagen           128730\n",
              "ford                 124046"
            ]
          },
          "metadata": {
            "tags": []
          },
          "execution_count": 76
        }
      ]
    },
    {
      "cell_type": "code",
      "metadata": {
        "colab": {
          "base_uri": "https://localhost:8080/",
          "height": 228
        },
        "id": "cCWFNqYC_Moo",
        "outputId": "b2fa9674-0528-4307-cc43-af31ba101dca"
      },
      "source": [
        "brand_info[\"mean_price\"] = mean_prices\n",
        "brand_info.sort_values(by = 'mean_price', ascending = False)"
      ],
      "execution_count": 79,
      "outputs": [
        {
          "output_type": "execute_result",
          "data": {
            "text/html": [
              "<div>\n",
              "<style scoped>\n",
              "    .dataframe tbody tr th:only-of-type {\n",
              "        vertical-align: middle;\n",
              "    }\n",
              "\n",
              "    .dataframe tbody tr th {\n",
              "        vertical-align: top;\n",
              "    }\n",
              "\n",
              "    .dataframe thead th {\n",
              "        text-align: right;\n",
              "    }\n",
              "</style>\n",
              "<table border=\"1\" class=\"dataframe\">\n",
              "  <thead>\n",
              "    <tr style=\"text-align: right;\">\n",
              "      <th></th>\n",
              "      <th>mean_mileage</th>\n",
              "      <th>mean_price</th>\n",
              "    </tr>\n",
              "  </thead>\n",
              "  <tbody>\n",
              "    <tr>\n",
              "      <th>mercedes_benz</th>\n",
              "      <td>130860</td>\n",
              "      <td>30317</td>\n",
              "    </tr>\n",
              "    <tr>\n",
              "      <th>audi</th>\n",
              "      <td>129287</td>\n",
              "      <td>9093</td>\n",
              "    </tr>\n",
              "    <tr>\n",
              "      <th>bmw</th>\n",
              "      <td>132434</td>\n",
              "      <td>8334</td>\n",
              "    </tr>\n",
              "    <tr>\n",
              "      <th>ford</th>\n",
              "      <td>124046</td>\n",
              "      <td>7263</td>\n",
              "    </tr>\n",
              "    <tr>\n",
              "      <th>volkswagen</th>\n",
              "      <td>128730</td>\n",
              "      <td>6516</td>\n",
              "    </tr>\n",
              "    <tr>\n",
              "      <th>opel</th>\n",
              "      <td>129227</td>\n",
              "      <td>5252</td>\n",
              "    </tr>\n",
              "  </tbody>\n",
              "</table>\n",
              "</div>"
            ],
            "text/plain": [
              "               mean_mileage  mean_price\n",
              "mercedes_benz        130860       30317\n",
              "audi                 129287        9093\n",
              "bmw                  132434        8334\n",
              "ford                 124046        7263\n",
              "volkswagen           128730        6516\n",
              "opel                 129227        5252"
            ]
          },
          "metadata": {
            "tags": []
          },
          "execution_count": 79
        }
      ]
    },
    {
      "cell_type": "markdown",
      "metadata": {
        "id": "AOIGGDFl_1O4"
      },
      "source": [
        "##### We can see from the output above that the distribution of mean mileage for the top 6 brands is pretty uniform. Ford is the brand with the lowest mean mileage while BMW is the brand with the highest mean mileage. While the trend is slight, it does seem the more expensive cars have a higher mean mileage than the less expensive ones. That being said, the link between price and mileage is pretty weak. "
      ]
    },
    {
      "cell_type": "code",
      "metadata": {
        "id": "NUTT_qOQA99e"
      },
      "source": [
        ""
      ],
      "execution_count": null,
      "outputs": []
    }
  ]
}