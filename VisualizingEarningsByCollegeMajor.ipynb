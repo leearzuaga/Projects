{
  "nbformat": 4,
  "nbformat_minor": 0,
  "metadata": {
    "colab": {
      "name": "VisualizingEarningsByCollegeMajor.ipynb",
      "provenance": [],
      "authorship_tag": "ABX9TyO+mrWxgx/sdgo6CD0N4cZ8",
      "include_colab_link": true
    },
    "kernelspec": {
      "name": "python3",
      "display_name": "Python 3"
    }
  },
  "cells": [
    {
      "cell_type": "markdown",
      "metadata": {
        "id": "view-in-github",
        "colab_type": "text"
      },
      "source": [
        "<a href=\"https://colab.research.google.com/github/leearzuaga/Projects/blob/main/VisualizingEarningsByCollegeMajor.ipynb\" target=\"_parent\"><img src=\"https://colab.research.google.com/assets/colab-badge.svg\" alt=\"Open In Colab\"/></a>"
      ]
    },
    {
      "cell_type": "markdown",
      "metadata": {
        "id": "3GEy5q3a6mpN"
      },
      "source": [
        "# Exploring Earnings By College Major Using Visualizations"
      ]
    },
    {
      "cell_type": "markdown",
      "metadata": {
        "id": "Ok9GlcLr2SwQ"
      },
      "source": [
        "##### In this project, I'll be using Pandas (a data analysis library in python) plotting functionality to quickly visually explore data for job outcomes of students who graduated from college between 2010 and 2012 (original dataset can be found [here]('https://github.com/fivethirtyeight/data/tree/master/college-majors')). \n",
        "\n",
        "##### The dataset I'll be working with represents a different major in college and contains information on gender diversity, employment rates, median salaries, etc. Below is a data dictionary for some of the columns in our dataset:\n",
        "\n",
        "column | description \n",
        "--- | ---\n",
        "Rank | Rank by median earnings (the dataset is ordered by this column).\n",
        "Major_code | Major code.\n",
        "Major | Major description.\n",
        "Major_category | Category of major.\n",
        "Total | Total number of people with major.\n",
        "Sample_size | Sample size (unweighted) of full-time.\n",
        "Men | Male graduates.\n",
        "Women | Female graduates.\n",
        "ShareWomen | Women as share of total.\n",
        "Employed | Number employed.\n",
        "Median | Median salary of full-time, year-round workers.\n",
        "Low_wage_jobs | Number in low-wage service jobs.\n",
        "Full_time | Number employed 35 hours or more.\n",
        "Part_time | Number employed less than 35 hours. \n",
        "\n",
        "##### Lets get started."
      ]
    },
    {
      "cell_type": "markdown",
      "metadata": {
        "id": "iFhel5Od6-vI"
      },
      "source": [
        "# Importing Libraries and Reading In Data"
      ]
    },
    {
      "cell_type": "code",
      "metadata": {
        "colab": {
          "base_uri": "https://localhost:8080/"
        },
        "id": "Dp_2GW4YzsxE",
        "outputId": "9c82aa2f-b977-4716-f01f-866496f2ab43"
      },
      "source": [
        "# Libraries\n",
        "\n",
        "import pandas as pd\n",
        "from matplotlib import pyplot as plt \n",
        "\n",
        "%matplotlib inline  # allows plots to be displayed inline within this notebook"
      ],
      "execution_count": 1,
      "outputs": [
        {
          "output_type": "stream",
          "text": [
            "UsageError: unrecognized arguments: # allows plots to be displayed inline within this notebook\n"
          ],
          "name": "stderr"
        }
      ]
    },
    {
      "cell_type": "code",
      "metadata": {
        "id": "Y36Eum3P7xPP"
      },
      "source": [
        "# Importing our data in\n",
        "\n",
        "recent_grads = pd.read_csv('recent-grads.csv')"
      ],
      "execution_count": 2,
      "outputs": []
    },
    {
      "cell_type": "markdown",
      "metadata": {
        "id": "iTtHsJyJ83lc"
      },
      "source": [
        "# Exploring Our Data"
      ]
    },
    {
      "cell_type": "markdown",
      "metadata": {
        "id": "l5qvXrzD-8zj"
      },
      "source": [
        "##### Before creating any data visualizations to explore our data, it's always a good idea to just get a high-level view of the data your working with. "
      ]
    },
    {
      "cell_type": "code",
      "metadata": {
        "colab": {
          "base_uri": "https://localhost:8080/"
        },
        "id": "o1GcYiiJ8hfz",
        "outputId": "a50efdf4-ecdd-4658-fe55-931ff3b62e3d"
      },
      "source": [
        "print(recent_grads.shape)  # returns the 'shape' or structure of our dataset -- 173 rows and 21 columns\n",
        "print()\n",
        "recent_grads.info()  # returns information regarding all the columns in our dataset"
      ],
      "execution_count": 3,
      "outputs": [
        {
          "output_type": "stream",
          "text": [
            "(173, 21)\n",
            "\n",
            "<class 'pandas.core.frame.DataFrame'>\n",
            "RangeIndex: 173 entries, 0 to 172\n",
            "Data columns (total 21 columns):\n",
            " #   Column                Non-Null Count  Dtype  \n",
            "---  ------                --------------  -----  \n",
            " 0   Rank                  173 non-null    int64  \n",
            " 1   Major_code            173 non-null    int64  \n",
            " 2   Major                 173 non-null    object \n",
            " 3   Total                 172 non-null    float64\n",
            " 4   Men                   172 non-null    float64\n",
            " 5   Women                 172 non-null    float64\n",
            " 6   Major_category        173 non-null    object \n",
            " 7   ShareWomen            172 non-null    float64\n",
            " 8   Sample_size           173 non-null    int64  \n",
            " 9   Employed              173 non-null    int64  \n",
            " 10  Full_time             173 non-null    int64  \n",
            " 11  Part_time             173 non-null    int64  \n",
            " 12  Full_time_year_round  173 non-null    int64  \n",
            " 13  Unemployed            173 non-null    int64  \n",
            " 14  Unemployment_rate     173 non-null    float64\n",
            " 15  Median                173 non-null    int64  \n",
            " 16  P25th                 173 non-null    int64  \n",
            " 17  P75th                 173 non-null    int64  \n",
            " 18  College_jobs          173 non-null    int64  \n",
            " 19  Non_college_jobs      173 non-null    int64  \n",
            " 20  Low_wage_jobs         173 non-null    int64  \n",
            "dtypes: float64(5), int64(14), object(2)\n",
            "memory usage: 28.5+ KB\n"
          ],
          "name": "stdout"
        }
      ]
    },
    {
      "cell_type": "code",
      "metadata": {
        "colab": {
          "base_uri": "https://localhost:8080/"
        },
        "id": "X6XWlZFj8hjH",
        "outputId": "8eaabb80-4501-4fa9-c681-b82da4751a3b"
      },
      "source": [
        "recent_grads.iloc[0]  # returns the first row of our dataset formatted as a table"
      ],
      "execution_count": 4,
      "outputs": [
        {
          "output_type": "execute_result",
          "data": {
            "text/plain": [
              "Rank                                        1\n",
              "Major_code                               2419\n",
              "Major                   PETROLEUM ENGINEERING\n",
              "Total                                    2339\n",
              "Men                                      2057\n",
              "Women                                     282\n",
              "Major_category                    Engineering\n",
              "ShareWomen                           0.120564\n",
              "Sample_size                                36\n",
              "Employed                                 1976\n",
              "Full_time                                1849\n",
              "Part_time                                 270\n",
              "Full_time_year_round                     1207\n",
              "Unemployed                                 37\n",
              "Unemployment_rate                   0.0183805\n",
              "Median                                 110000\n",
              "P25th                                   95000\n",
              "P75th                                  125000\n",
              "College_jobs                             1534\n",
              "Non_college_jobs                          364\n",
              "Low_wage_jobs                             193\n",
              "Name: 0, dtype: object"
            ]
          },
          "metadata": {
            "tags": []
          },
          "execution_count": 4
        }
      ]
    },
    {
      "cell_type": "code",
      "metadata": {
        "colab": {
          "base_uri": "https://localhost:8080/",
          "height": 308
        },
        "id": "7-jzCJ4a-bJz",
        "outputId": "3550b3d3-312d-4f31-8a1d-cf97ec86c4a1"
      },
      "source": [
        "recent_grads.describe() # returns summary statistics for all the columns"
      ],
      "execution_count": 5,
      "outputs": [
        {
          "output_type": "execute_result",
          "data": {
            "text/html": [
              "<div>\n",
              "<style scoped>\n",
              "    .dataframe tbody tr th:only-of-type {\n",
              "        vertical-align: middle;\n",
              "    }\n",
              "\n",
              "    .dataframe tbody tr th {\n",
              "        vertical-align: top;\n",
              "    }\n",
              "\n",
              "    .dataframe thead th {\n",
              "        text-align: right;\n",
              "    }\n",
              "</style>\n",
              "<table border=\"1\" class=\"dataframe\">\n",
              "  <thead>\n",
              "    <tr style=\"text-align: right;\">\n",
              "      <th></th>\n",
              "      <th>Rank</th>\n",
              "      <th>Major_code</th>\n",
              "      <th>Total</th>\n",
              "      <th>Men</th>\n",
              "      <th>Women</th>\n",
              "      <th>ShareWomen</th>\n",
              "      <th>Sample_size</th>\n",
              "      <th>Employed</th>\n",
              "      <th>Full_time</th>\n",
              "      <th>Part_time</th>\n",
              "      <th>Full_time_year_round</th>\n",
              "      <th>Unemployed</th>\n",
              "      <th>Unemployment_rate</th>\n",
              "      <th>Median</th>\n",
              "      <th>P25th</th>\n",
              "      <th>P75th</th>\n",
              "      <th>College_jobs</th>\n",
              "      <th>Non_college_jobs</th>\n",
              "      <th>Low_wage_jobs</th>\n",
              "    </tr>\n",
              "  </thead>\n",
              "  <tbody>\n",
              "    <tr>\n",
              "      <th>count</th>\n",
              "      <td>173.000000</td>\n",
              "      <td>173.000000</td>\n",
              "      <td>172.000000</td>\n",
              "      <td>172.000000</td>\n",
              "      <td>172.000000</td>\n",
              "      <td>172.000000</td>\n",
              "      <td>173.000000</td>\n",
              "      <td>173.000000</td>\n",
              "      <td>173.000000</td>\n",
              "      <td>173.000000</td>\n",
              "      <td>173.000000</td>\n",
              "      <td>173.000000</td>\n",
              "      <td>173.000000</td>\n",
              "      <td>173.000000</td>\n",
              "      <td>173.000000</td>\n",
              "      <td>173.000000</td>\n",
              "      <td>173.000000</td>\n",
              "      <td>173.000000</td>\n",
              "      <td>173.000000</td>\n",
              "    </tr>\n",
              "    <tr>\n",
              "      <th>mean</th>\n",
              "      <td>87.000000</td>\n",
              "      <td>3879.815029</td>\n",
              "      <td>39370.081395</td>\n",
              "      <td>16723.406977</td>\n",
              "      <td>22646.674419</td>\n",
              "      <td>0.522223</td>\n",
              "      <td>356.080925</td>\n",
              "      <td>31192.763006</td>\n",
              "      <td>26029.306358</td>\n",
              "      <td>8832.398844</td>\n",
              "      <td>19694.427746</td>\n",
              "      <td>2416.329480</td>\n",
              "      <td>0.068191</td>\n",
              "      <td>40151.445087</td>\n",
              "      <td>29501.445087</td>\n",
              "      <td>51494.219653</td>\n",
              "      <td>12322.635838</td>\n",
              "      <td>13284.497110</td>\n",
              "      <td>3859.017341</td>\n",
              "    </tr>\n",
              "    <tr>\n",
              "      <th>std</th>\n",
              "      <td>50.084928</td>\n",
              "      <td>1687.753140</td>\n",
              "      <td>63483.491009</td>\n",
              "      <td>28122.433474</td>\n",
              "      <td>41057.330740</td>\n",
              "      <td>0.231205</td>\n",
              "      <td>618.361022</td>\n",
              "      <td>50675.002241</td>\n",
              "      <td>42869.655092</td>\n",
              "      <td>14648.179473</td>\n",
              "      <td>33160.941514</td>\n",
              "      <td>4112.803148</td>\n",
              "      <td>0.030331</td>\n",
              "      <td>11470.181802</td>\n",
              "      <td>9166.005235</td>\n",
              "      <td>14906.279740</td>\n",
              "      <td>21299.868863</td>\n",
              "      <td>23789.655363</td>\n",
              "      <td>6944.998579</td>\n",
              "    </tr>\n",
              "    <tr>\n",
              "      <th>min</th>\n",
              "      <td>1.000000</td>\n",
              "      <td>1100.000000</td>\n",
              "      <td>124.000000</td>\n",
              "      <td>119.000000</td>\n",
              "      <td>0.000000</td>\n",
              "      <td>0.000000</td>\n",
              "      <td>2.000000</td>\n",
              "      <td>0.000000</td>\n",
              "      <td>111.000000</td>\n",
              "      <td>0.000000</td>\n",
              "      <td>111.000000</td>\n",
              "      <td>0.000000</td>\n",
              "      <td>0.000000</td>\n",
              "      <td>22000.000000</td>\n",
              "      <td>18500.000000</td>\n",
              "      <td>22000.000000</td>\n",
              "      <td>0.000000</td>\n",
              "      <td>0.000000</td>\n",
              "      <td>0.000000</td>\n",
              "    </tr>\n",
              "    <tr>\n",
              "      <th>25%</th>\n",
              "      <td>44.000000</td>\n",
              "      <td>2403.000000</td>\n",
              "      <td>4549.750000</td>\n",
              "      <td>2177.500000</td>\n",
              "      <td>1778.250000</td>\n",
              "      <td>0.336026</td>\n",
              "      <td>39.000000</td>\n",
              "      <td>3608.000000</td>\n",
              "      <td>3154.000000</td>\n",
              "      <td>1030.000000</td>\n",
              "      <td>2453.000000</td>\n",
              "      <td>304.000000</td>\n",
              "      <td>0.050306</td>\n",
              "      <td>33000.000000</td>\n",
              "      <td>24000.000000</td>\n",
              "      <td>42000.000000</td>\n",
              "      <td>1675.000000</td>\n",
              "      <td>1591.000000</td>\n",
              "      <td>340.000000</td>\n",
              "    </tr>\n",
              "    <tr>\n",
              "      <th>50%</th>\n",
              "      <td>87.000000</td>\n",
              "      <td>3608.000000</td>\n",
              "      <td>15104.000000</td>\n",
              "      <td>5434.000000</td>\n",
              "      <td>8386.500000</td>\n",
              "      <td>0.534024</td>\n",
              "      <td>130.000000</td>\n",
              "      <td>11797.000000</td>\n",
              "      <td>10048.000000</td>\n",
              "      <td>3299.000000</td>\n",
              "      <td>7413.000000</td>\n",
              "      <td>893.000000</td>\n",
              "      <td>0.067961</td>\n",
              "      <td>36000.000000</td>\n",
              "      <td>27000.000000</td>\n",
              "      <td>47000.000000</td>\n",
              "      <td>4390.000000</td>\n",
              "      <td>4595.000000</td>\n",
              "      <td>1231.000000</td>\n",
              "    </tr>\n",
              "    <tr>\n",
              "      <th>75%</th>\n",
              "      <td>130.000000</td>\n",
              "      <td>5503.000000</td>\n",
              "      <td>38909.750000</td>\n",
              "      <td>14631.000000</td>\n",
              "      <td>22553.750000</td>\n",
              "      <td>0.703299</td>\n",
              "      <td>338.000000</td>\n",
              "      <td>31433.000000</td>\n",
              "      <td>25147.000000</td>\n",
              "      <td>9948.000000</td>\n",
              "      <td>16891.000000</td>\n",
              "      <td>2393.000000</td>\n",
              "      <td>0.087557</td>\n",
              "      <td>45000.000000</td>\n",
              "      <td>33000.000000</td>\n",
              "      <td>60000.000000</td>\n",
              "      <td>14444.000000</td>\n",
              "      <td>11783.000000</td>\n",
              "      <td>3466.000000</td>\n",
              "    </tr>\n",
              "    <tr>\n",
              "      <th>max</th>\n",
              "      <td>173.000000</td>\n",
              "      <td>6403.000000</td>\n",
              "      <td>393735.000000</td>\n",
              "      <td>173809.000000</td>\n",
              "      <td>307087.000000</td>\n",
              "      <td>0.968954</td>\n",
              "      <td>4212.000000</td>\n",
              "      <td>307933.000000</td>\n",
              "      <td>251540.000000</td>\n",
              "      <td>115172.000000</td>\n",
              "      <td>199897.000000</td>\n",
              "      <td>28169.000000</td>\n",
              "      <td>0.177226</td>\n",
              "      <td>110000.000000</td>\n",
              "      <td>95000.000000</td>\n",
              "      <td>125000.000000</td>\n",
              "      <td>151643.000000</td>\n",
              "      <td>148395.000000</td>\n",
              "      <td>48207.000000</td>\n",
              "    </tr>\n",
              "  </tbody>\n",
              "</table>\n",
              "</div>"
            ],
            "text/plain": [
              "             Rank   Major_code  ...  Non_college_jobs  Low_wage_jobs\n",
              "count  173.000000   173.000000  ...        173.000000     173.000000\n",
              "mean    87.000000  3879.815029  ...      13284.497110    3859.017341\n",
              "std     50.084928  1687.753140  ...      23789.655363    6944.998579\n",
              "min      1.000000  1100.000000  ...          0.000000       0.000000\n",
              "25%     44.000000  2403.000000  ...       1591.000000     340.000000\n",
              "50%     87.000000  3608.000000  ...       4595.000000    1231.000000\n",
              "75%    130.000000  5503.000000  ...      11783.000000    3466.000000\n",
              "max    173.000000  6403.000000  ...     148395.000000   48207.000000\n",
              "\n",
              "[8 rows x 19 columns]"
            ]
          },
          "metadata": {
            "tags": []
          },
          "execution_count": 5
        }
      ]
    },
    {
      "cell_type": "code",
      "metadata": {
        "colab": {
          "base_uri": "https://localhost:8080/",
          "height": 356
        },
        "id": "GwoJ8dBL8hbe",
        "outputId": "a43a68d9-6996-47aa-ed64-bcd1bf553027"
      },
      "source": [
        "recent_grads.head()  # returns the first 5 rows of our dataset"
      ],
      "execution_count": 6,
      "outputs": [
        {
          "output_type": "execute_result",
          "data": {
            "text/html": [
              "<div>\n",
              "<style scoped>\n",
              "    .dataframe tbody tr th:only-of-type {\n",
              "        vertical-align: middle;\n",
              "    }\n",
              "\n",
              "    .dataframe tbody tr th {\n",
              "        vertical-align: top;\n",
              "    }\n",
              "\n",
              "    .dataframe thead th {\n",
              "        text-align: right;\n",
              "    }\n",
              "</style>\n",
              "<table border=\"1\" class=\"dataframe\">\n",
              "  <thead>\n",
              "    <tr style=\"text-align: right;\">\n",
              "      <th></th>\n",
              "      <th>Rank</th>\n",
              "      <th>Major_code</th>\n",
              "      <th>Major</th>\n",
              "      <th>Total</th>\n",
              "      <th>Men</th>\n",
              "      <th>Women</th>\n",
              "      <th>Major_category</th>\n",
              "      <th>ShareWomen</th>\n",
              "      <th>Sample_size</th>\n",
              "      <th>Employed</th>\n",
              "      <th>Full_time</th>\n",
              "      <th>Part_time</th>\n",
              "      <th>Full_time_year_round</th>\n",
              "      <th>Unemployed</th>\n",
              "      <th>Unemployment_rate</th>\n",
              "      <th>Median</th>\n",
              "      <th>P25th</th>\n",
              "      <th>P75th</th>\n",
              "      <th>College_jobs</th>\n",
              "      <th>Non_college_jobs</th>\n",
              "      <th>Low_wage_jobs</th>\n",
              "    </tr>\n",
              "  </thead>\n",
              "  <tbody>\n",
              "    <tr>\n",
              "      <th>0</th>\n",
              "      <td>1</td>\n",
              "      <td>2419</td>\n",
              "      <td>PETROLEUM ENGINEERING</td>\n",
              "      <td>2339.0</td>\n",
              "      <td>2057.0</td>\n",
              "      <td>282.0</td>\n",
              "      <td>Engineering</td>\n",
              "      <td>0.120564</td>\n",
              "      <td>36</td>\n",
              "      <td>1976</td>\n",
              "      <td>1849</td>\n",
              "      <td>270</td>\n",
              "      <td>1207</td>\n",
              "      <td>37</td>\n",
              "      <td>0.018381</td>\n",
              "      <td>110000</td>\n",
              "      <td>95000</td>\n",
              "      <td>125000</td>\n",
              "      <td>1534</td>\n",
              "      <td>364</td>\n",
              "      <td>193</td>\n",
              "    </tr>\n",
              "    <tr>\n",
              "      <th>1</th>\n",
              "      <td>2</td>\n",
              "      <td>2416</td>\n",
              "      <td>MINING AND MINERAL ENGINEERING</td>\n",
              "      <td>756.0</td>\n",
              "      <td>679.0</td>\n",
              "      <td>77.0</td>\n",
              "      <td>Engineering</td>\n",
              "      <td>0.101852</td>\n",
              "      <td>7</td>\n",
              "      <td>640</td>\n",
              "      <td>556</td>\n",
              "      <td>170</td>\n",
              "      <td>388</td>\n",
              "      <td>85</td>\n",
              "      <td>0.117241</td>\n",
              "      <td>75000</td>\n",
              "      <td>55000</td>\n",
              "      <td>90000</td>\n",
              "      <td>350</td>\n",
              "      <td>257</td>\n",
              "      <td>50</td>\n",
              "    </tr>\n",
              "    <tr>\n",
              "      <th>2</th>\n",
              "      <td>3</td>\n",
              "      <td>2415</td>\n",
              "      <td>METALLURGICAL ENGINEERING</td>\n",
              "      <td>856.0</td>\n",
              "      <td>725.0</td>\n",
              "      <td>131.0</td>\n",
              "      <td>Engineering</td>\n",
              "      <td>0.153037</td>\n",
              "      <td>3</td>\n",
              "      <td>648</td>\n",
              "      <td>558</td>\n",
              "      <td>133</td>\n",
              "      <td>340</td>\n",
              "      <td>16</td>\n",
              "      <td>0.024096</td>\n",
              "      <td>73000</td>\n",
              "      <td>50000</td>\n",
              "      <td>105000</td>\n",
              "      <td>456</td>\n",
              "      <td>176</td>\n",
              "      <td>0</td>\n",
              "    </tr>\n",
              "    <tr>\n",
              "      <th>3</th>\n",
              "      <td>4</td>\n",
              "      <td>2417</td>\n",
              "      <td>NAVAL ARCHITECTURE AND MARINE ENGINEERING</td>\n",
              "      <td>1258.0</td>\n",
              "      <td>1123.0</td>\n",
              "      <td>135.0</td>\n",
              "      <td>Engineering</td>\n",
              "      <td>0.107313</td>\n",
              "      <td>16</td>\n",
              "      <td>758</td>\n",
              "      <td>1069</td>\n",
              "      <td>150</td>\n",
              "      <td>692</td>\n",
              "      <td>40</td>\n",
              "      <td>0.050125</td>\n",
              "      <td>70000</td>\n",
              "      <td>43000</td>\n",
              "      <td>80000</td>\n",
              "      <td>529</td>\n",
              "      <td>102</td>\n",
              "      <td>0</td>\n",
              "    </tr>\n",
              "    <tr>\n",
              "      <th>4</th>\n",
              "      <td>5</td>\n",
              "      <td>2405</td>\n",
              "      <td>CHEMICAL ENGINEERING</td>\n",
              "      <td>32260.0</td>\n",
              "      <td>21239.0</td>\n",
              "      <td>11021.0</td>\n",
              "      <td>Engineering</td>\n",
              "      <td>0.341631</td>\n",
              "      <td>289</td>\n",
              "      <td>25694</td>\n",
              "      <td>23170</td>\n",
              "      <td>5180</td>\n",
              "      <td>16697</td>\n",
              "      <td>1672</td>\n",
              "      <td>0.061098</td>\n",
              "      <td>65000</td>\n",
              "      <td>50000</td>\n",
              "      <td>75000</td>\n",
              "      <td>18314</td>\n",
              "      <td>4440</td>\n",
              "      <td>972</td>\n",
              "    </tr>\n",
              "  </tbody>\n",
              "</table>\n",
              "</div>"
            ],
            "text/plain": [
              "   Rank  Major_code  ... Non_college_jobs  Low_wage_jobs\n",
              "0     1        2419  ...              364            193\n",
              "1     2        2416  ...              257             50\n",
              "2     3        2415  ...              176              0\n",
              "3     4        2417  ...              102              0\n",
              "4     5        2405  ...             4440            972\n",
              "\n",
              "[5 rows x 21 columns]"
            ]
          },
          "metadata": {
            "tags": []
          },
          "execution_count": 6
        }
      ]
    },
    {
      "cell_type": "code",
      "metadata": {
        "colab": {
          "base_uri": "https://localhost:8080/",
          "height": 305
        },
        "id": "BnoNxRNB-Tsb",
        "outputId": "ef20414e-3181-4f82-dc16-bae539d807f7"
      },
      "source": [
        "recent_grads.tail()  # returns the last 5 rows of our dataset"
      ],
      "execution_count": 7,
      "outputs": [
        {
          "output_type": "execute_result",
          "data": {
            "text/html": [
              "<div>\n",
              "<style scoped>\n",
              "    .dataframe tbody tr th:only-of-type {\n",
              "        vertical-align: middle;\n",
              "    }\n",
              "\n",
              "    .dataframe tbody tr th {\n",
              "        vertical-align: top;\n",
              "    }\n",
              "\n",
              "    .dataframe thead th {\n",
              "        text-align: right;\n",
              "    }\n",
              "</style>\n",
              "<table border=\"1\" class=\"dataframe\">\n",
              "  <thead>\n",
              "    <tr style=\"text-align: right;\">\n",
              "      <th></th>\n",
              "      <th>Rank</th>\n",
              "      <th>Major_code</th>\n",
              "      <th>Major</th>\n",
              "      <th>Total</th>\n",
              "      <th>Men</th>\n",
              "      <th>Women</th>\n",
              "      <th>Major_category</th>\n",
              "      <th>ShareWomen</th>\n",
              "      <th>Sample_size</th>\n",
              "      <th>Employed</th>\n",
              "      <th>Full_time</th>\n",
              "      <th>Part_time</th>\n",
              "      <th>Full_time_year_round</th>\n",
              "      <th>Unemployed</th>\n",
              "      <th>Unemployment_rate</th>\n",
              "      <th>Median</th>\n",
              "      <th>P25th</th>\n",
              "      <th>P75th</th>\n",
              "      <th>College_jobs</th>\n",
              "      <th>Non_college_jobs</th>\n",
              "      <th>Low_wage_jobs</th>\n",
              "    </tr>\n",
              "  </thead>\n",
              "  <tbody>\n",
              "    <tr>\n",
              "      <th>168</th>\n",
              "      <td>169</td>\n",
              "      <td>3609</td>\n",
              "      <td>ZOOLOGY</td>\n",
              "      <td>8409.0</td>\n",
              "      <td>3050.0</td>\n",
              "      <td>5359.0</td>\n",
              "      <td>Biology &amp; Life Science</td>\n",
              "      <td>0.637293</td>\n",
              "      <td>47</td>\n",
              "      <td>6259</td>\n",
              "      <td>5043</td>\n",
              "      <td>2190</td>\n",
              "      <td>3602</td>\n",
              "      <td>304</td>\n",
              "      <td>0.046320</td>\n",
              "      <td>26000</td>\n",
              "      <td>20000</td>\n",
              "      <td>39000</td>\n",
              "      <td>2771</td>\n",
              "      <td>2947</td>\n",
              "      <td>743</td>\n",
              "    </tr>\n",
              "    <tr>\n",
              "      <th>169</th>\n",
              "      <td>170</td>\n",
              "      <td>5201</td>\n",
              "      <td>EDUCATIONAL PSYCHOLOGY</td>\n",
              "      <td>2854.0</td>\n",
              "      <td>522.0</td>\n",
              "      <td>2332.0</td>\n",
              "      <td>Psychology &amp; Social Work</td>\n",
              "      <td>0.817099</td>\n",
              "      <td>7</td>\n",
              "      <td>2125</td>\n",
              "      <td>1848</td>\n",
              "      <td>572</td>\n",
              "      <td>1211</td>\n",
              "      <td>148</td>\n",
              "      <td>0.065112</td>\n",
              "      <td>25000</td>\n",
              "      <td>24000</td>\n",
              "      <td>34000</td>\n",
              "      <td>1488</td>\n",
              "      <td>615</td>\n",
              "      <td>82</td>\n",
              "    </tr>\n",
              "    <tr>\n",
              "      <th>170</th>\n",
              "      <td>171</td>\n",
              "      <td>5202</td>\n",
              "      <td>CLINICAL PSYCHOLOGY</td>\n",
              "      <td>2838.0</td>\n",
              "      <td>568.0</td>\n",
              "      <td>2270.0</td>\n",
              "      <td>Psychology &amp; Social Work</td>\n",
              "      <td>0.799859</td>\n",
              "      <td>13</td>\n",
              "      <td>2101</td>\n",
              "      <td>1724</td>\n",
              "      <td>648</td>\n",
              "      <td>1293</td>\n",
              "      <td>368</td>\n",
              "      <td>0.149048</td>\n",
              "      <td>25000</td>\n",
              "      <td>25000</td>\n",
              "      <td>40000</td>\n",
              "      <td>986</td>\n",
              "      <td>870</td>\n",
              "      <td>622</td>\n",
              "    </tr>\n",
              "    <tr>\n",
              "      <th>171</th>\n",
              "      <td>172</td>\n",
              "      <td>5203</td>\n",
              "      <td>COUNSELING PSYCHOLOGY</td>\n",
              "      <td>4626.0</td>\n",
              "      <td>931.0</td>\n",
              "      <td>3695.0</td>\n",
              "      <td>Psychology &amp; Social Work</td>\n",
              "      <td>0.798746</td>\n",
              "      <td>21</td>\n",
              "      <td>3777</td>\n",
              "      <td>3154</td>\n",
              "      <td>965</td>\n",
              "      <td>2738</td>\n",
              "      <td>214</td>\n",
              "      <td>0.053621</td>\n",
              "      <td>23400</td>\n",
              "      <td>19200</td>\n",
              "      <td>26000</td>\n",
              "      <td>2403</td>\n",
              "      <td>1245</td>\n",
              "      <td>308</td>\n",
              "    </tr>\n",
              "    <tr>\n",
              "      <th>172</th>\n",
              "      <td>173</td>\n",
              "      <td>3501</td>\n",
              "      <td>LIBRARY SCIENCE</td>\n",
              "      <td>1098.0</td>\n",
              "      <td>134.0</td>\n",
              "      <td>964.0</td>\n",
              "      <td>Education</td>\n",
              "      <td>0.877960</td>\n",
              "      <td>2</td>\n",
              "      <td>742</td>\n",
              "      <td>593</td>\n",
              "      <td>237</td>\n",
              "      <td>410</td>\n",
              "      <td>87</td>\n",
              "      <td>0.104946</td>\n",
              "      <td>22000</td>\n",
              "      <td>20000</td>\n",
              "      <td>22000</td>\n",
              "      <td>288</td>\n",
              "      <td>338</td>\n",
              "      <td>192</td>\n",
              "    </tr>\n",
              "  </tbody>\n",
              "</table>\n",
              "</div>"
            ],
            "text/plain": [
              "     Rank  Major_code  ... Non_college_jobs  Low_wage_jobs\n",
              "168   169        3609  ...             2947            743\n",
              "169   170        5201  ...              615             82\n",
              "170   171        5202  ...              870            622\n",
              "171   172        5203  ...             1245            308\n",
              "172   173        3501  ...              338            192\n",
              "\n",
              "[5 rows x 21 columns]"
            ]
          },
          "metadata": {
            "tags": []
          },
          "execution_count": 7
        }
      ]
    },
    {
      "cell_type": "markdown",
      "metadata": {
        "id": "Tm6NGobl__rQ"
      },
      "source": [
        "##### After exploring our dataset at a high-level, we get a much better sense of the data we're working with and how its organized. For example, looking over the output above, we can see our dataset consists of 173 rows and 21 columns. Out of those 21 columns, it appears 4 of them ('Total', 'Men', 'Women', 'ShareWomen') have at least 1 null value (we'll have to look into this further). Lastly, we can see that all but 2 columns are of numeric data types. "
      ]
    },
    {
      "cell_type": "markdown",
      "metadata": {
        "id": "fPfbVNYGCSF_"
      },
      "source": [
        "# Handling Missing Values\n",
        "\n",
        "##### I noticed in the previous section how after exploring our dataset initially, it appears at least 4 columns have 1 null-value. Matplotlib -- which is the library I'm going to use to visualize our data -- expects columns of values we pass in to have matching lengths. Missing values will cause matplotlib to throw errors so as a result, I will remove or drop any rows containing missing or null values. "
      ]
    },
    {
      "cell_type": "code",
      "metadata": {
        "colab": {
          "base_uri": "https://localhost:8080/"
        },
        "id": "R8Zd4x9HBdfk",
        "outputId": "ea3d2953-b2e6-4435-febe-1afd9ae1a785"
      },
      "source": [
        "# First I'm going to look up the number of rows in our dataset and assign \n",
        "# the value to a new variable\n",
        "\n",
        "raw_data_count = recent_grads.shape[0]\n",
        "\n",
        "raw_data_count"
      ],
      "execution_count": 8,
      "outputs": [
        {
          "output_type": "execute_result",
          "data": {
            "text/plain": [
              "173"
            ]
          },
          "metadata": {
            "tags": []
          },
          "execution_count": 8
        }
      ]
    },
    {
      "cell_type": "code",
      "metadata": {
        "id": "KdjVO83cEy9c"
      },
      "source": [
        "# Here I'm going to drop rows containing missing values and assing the \n",
        "# result back to our recent_grads dataset\n",
        "\n",
        "recent_grads = recent_grads.dropna()"
      ],
      "execution_count": 9,
      "outputs": []
    },
    {
      "cell_type": "code",
      "metadata": {
        "colab": {
          "base_uri": "https://localhost:8080/"
        },
        "id": "tP7DcqBGFRFg",
        "outputId": "fee3379f-d5b4-472a-fa77-f71f4b8a72db"
      },
      "source": [
        "# Looking up the number of rows in our dataset now that its cleaned and \n",
        "# assinging the result to a new variable\n",
        "\n",
        "cleaned_data_count = recent_grads.shape[0]\n",
        "\n",
        "cleaned_data_count"
      ],
      "execution_count": 10,
      "outputs": [
        {
          "output_type": "execute_result",
          "data": {
            "text/plain": [
              "172"
            ]
          },
          "metadata": {
            "tags": []
          },
          "execution_count": 10
        }
      ]
    },
    {
      "cell_type": "markdown",
      "metadata": {
        "id": "h-Pk6OlaFnJl"
      },
      "source": [
        "##### If we compare our dataset before and after dropping rows containing missing values, we can see that only 1 row was removed."
      ]
    },
    {
      "cell_type": "markdown",
      "metadata": {
        "id": "ojyt17HJGBQ5"
      },
      "source": [
        "# Pandas, Scatter Plots\n",
        "\n",
        "##### In this section I'll begin plotting some data and seeing what insights I may be able to extract. I'll begin by generating some scatter plots to explore the relationships (if any) between various columns."
      ]
    },
    {
      "cell_type": "code",
      "metadata": {
        "colab": {
          "base_uri": "https://localhost:8080/",
          "height": 296
        },
        "id": "RNT_bZJJR4lX",
        "outputId": "24afe81f-8917-4590-ba0b-05accd6a6fb9"
      },
      "source": [
        "recent_grads.plot(x = 'Sample_size', y = 'Median', \n",
        "                        kind = 'scatter', \n",
        "                        title = 'Sample size vs Median')\n",
        "\n",
        "plt.show()"
      ],
      "execution_count": 11,
      "outputs": [
        {
          "output_type": "display_data",
          "data": {
            "image/png": "[encoded data removed]",
            "text/plain": [
              "<Figure size 432x288 with 1 Axes>"
            ]
          },
          "metadata": {
            "tags": [],
            "needs_background": "light"
          }
        }
      ]
    },
    {
      "cell_type": "code",
      "metadata": {
        "colab": {
          "base_uri": "https://localhost:8080/",
          "height": 296
        },
        "id": "DUKoMko-UEN3",
        "outputId": "75572f3e-4e17-4313-e3fc-db10d9062034"
      },
      "source": [
        "recent_grads.plot(x = 'Sample_size', y = 'Unemployment_rate', \n",
        "                        kind = 'scatter', \n",
        "                        title = 'Sample size vs Unemployment_rate')\n",
        "\n",
        "plt.show()"
      ],
      "execution_count": 12,
      "outputs": [
        {
          "output_type": "display_data",
          "data": {
            "image/png": "[encoded data removed]",
            "text/plain": [
              "<Figure size 432x288 with 1 Axes>"
            ]
          },
          "metadata": {
            "tags": [],
            "needs_background": "light"
          }
        }
      ]
    },
    {
      "cell_type": "code",
      "metadata": {
        "colab": {
          "base_uri": "https://localhost:8080/",
          "height": 296
        },
        "id": "VhF86L5NUFTL",
        "outputId": "54ca1d5f-36b8-4d6a-da71-766044357923"
      },
      "source": [
        "recent_grads.plot(x = 'Full_time', y = 'Median', kind = 'scatter', \n",
        "                  title = 'Full_time vs Median')\n",
        "\n",
        "plt.show()"
      ],
      "execution_count": 13,
      "outputs": [
        {
          "output_type": "display_data",
          "data": {
            "image/png": "[encoded data removed]",
            "text/plain": [
              "<Figure size 432x288 with 1 Axes>"
            ]
          },
          "metadata": {
            "tags": [],
            "needs_background": "light"
          }
        }
      ]
    },
    {
      "cell_type": "code",
      "metadata": {
        "colab": {
          "base_uri": "https://localhost:8080/",
          "height": 295
        },
        "id": "bFLIsjHzUFIb",
        "outputId": "dc2da581-fffc-4c5b-ce54-6baaf01a2ef0"
      },
      "source": [
        "recent_grads.plot(x = 'ShareWomen', y = 'Unemployment_rate', \n",
        "                        kind = 'scatter', \n",
        "                        title = 'ShareWomen vs Unemployment_rate')\n",
        "\n",
        "plt.show()"
      ],
      "execution_count": 14,
      "outputs": [
        {
          "output_type": "display_data",
          "data": {
            "image/png": "[encoded data removed]",
            "text/plain": [
              "<Figure size 432x288 with 1 Axes>"
            ]
          },
          "metadata": {
            "tags": [],
            "needs_background": "light"
          }
        }
      ]
    },
    {
      "cell_type": "code",
      "metadata": {
        "colab": {
          "base_uri": "https://localhost:8080/",
          "height": 295
        },
        "id": "gMaUlvGJUFAI",
        "outputId": "3033bba8-ef08-4a53-c8e6-6eb64f16ff6c"
      },
      "source": [
        "recent_grads.plot(x = 'Men', y = 'Median', kind = 'scatter', \n",
        "                  title = 'Men vs Median')\n",
        "\n",
        "plt.show()"
      ],
      "execution_count": 15,
      "outputs": [
        {
          "output_type": "display_data",
          "data": {
            "image/png": "[encoded data removed]",
            "text/plain": [
              "<Figure size 432x288 with 1 Axes>"
            ]
          },
          "metadata": {
            "tags": [],
            "needs_background": "light"
          }
        }
      ]
    },
    {
      "cell_type": "code",
      "metadata": {
        "colab": {
          "base_uri": "https://localhost:8080/",
          "height": 295
        },
        "id": "6hkfLitEUEkb",
        "outputId": "92defeea-0b57-41fe-923b-30220dadce1c"
      },
      "source": [
        "recent_grads.plot(x= 'Women', y = 'Median', kind = 'scatter', \n",
        "                  title = 'Women vs Median')\n",
        "\n",
        "plt.show()"
      ],
      "execution_count": 16,
      "outputs": [
        {
          "output_type": "display_data",
          "data": {
            "image/png": "[encoded data removed]",
            "text/plain": [
              "<Figure size 432x288 with 1 Axes>"
            ]
          },
          "metadata": {
            "tags": [],
            "needs_background": "light"
          }
        }
      ]
    },
    {
      "cell_type": "markdown",
      "metadata": {
        "id": "ZUiztrzIto4x"
      },
      "source": [
        "##### After looking over each of the scatter plots above, it appears that none of the relationships we looked at are correlated. \n",
        "\n",
        "##### Lets explore the following question to see if we have better luck finding some insights.\n",
        "\n",
        "\n",
        "\n",
        "*   Do students in more popular majors make more money?\n",
        "\n",
        "\n",
        "##### In order to answer whether or not more popular majors make more money, we're going to need to plot the relationship between the 'Total' column -- which represents the total number of people with major -- and the 'Median' column -- which represents median salary of full-time, year-round workers\n",
        "\n"
      ]
    },
    {
      "cell_type": "code",
      "metadata": {
        "colab": {
          "base_uri": "https://localhost:8080/",
          "height": 295
        },
        "id": "N8Nvt7UyUEcF",
        "outputId": "3f687bb3-a192-4e2c-ffde-bd1c274988ee"
      },
      "source": [
        "recent_grads.plot(x = 'Total', y = 'Median', kind = 'scatter', \n",
        "                  title = 'Total vs Median')\n",
        "\n",
        "plt.show()"
      ],
      "execution_count": 29,
      "outputs": [
        {
          "output_type": "display_data",
          "data": {
            "image/png": "[encoded data removed]",
            "text/plain": [
              "<Figure size 432x288 with 1 Axes>"
            ]
          },
          "metadata": {
            "tags": [],
            "needs_background": "light"
          }
        }
      ]
    },
    {
      "cell_type": "markdown",
      "metadata": {
        "id": "K27K3ee_w_xq"
      },
      "source": [
        "##### Again, there appears to be no correlation between the most popular majors and the amount of money people make from those majors. While these two columns aren't correlated, we can still answer our original question. Notice how the majority of the values are bunched up to the left side of the plot. Also notice how the highest Median values are also the values with the lowest Total. This inidicated to me that the most popular majors do not lead to the highest earning careers. \n",
        "\n",
        "##### Below you'll see a table with the top 10 majors by popularity (Total) and top 10 majors by Median. This should confirm our observation from our scatter plot."
      ]
    },
    {
      "cell_type": "code",
      "metadata": {
        "colab": {
          "base_uri": "https://localhost:8080/",
          "height": 348
        },
        "id": "1GxPwlE1UEEp",
        "outputId": "782f1113-b1ed-4305-911f-7a60accf171c"
      },
      "source": [
        "top_10_popular_majors = recent_grads[['Major', 'Total', 'Sample_size', 'Median']].sort_values('Total', ascending = False).head(10)\n",
        "top_10_salary_majors = recent_grads[['Major', 'Total', 'Sample_size', 'Median']].sort_values('Median', ascending = False).head(10)\n",
        "\n",
        "top_10_popular_majors"
      ],
      "execution_count": 31,
      "outputs": [
        {
          "output_type": "execute_result",
          "data": {
            "text/html": [
              "<div>\n",
              "<style scoped>\n",
              "    .dataframe tbody tr th:only-of-type {\n",
              "        vertical-align: middle;\n",
              "    }\n",
              "\n",
              "    .dataframe tbody tr th {\n",
              "        vertical-align: top;\n",
              "    }\n",
              "\n",
              "    .dataframe thead th {\n",
              "        text-align: right;\n",
              "    }\n",
              "</style>\n",
              "<table border=\"1\" class=\"dataframe\">\n",
              "  <thead>\n",
              "    <tr style=\"text-align: right;\">\n",
              "      <th></th>\n",
              "      <th>Major</th>\n",
              "      <th>Total</th>\n",
              "      <th>Sample_size</th>\n",
              "      <th>Median</th>\n",
              "    </tr>\n",
              "  </thead>\n",
              "  <tbody>\n",
              "    <tr>\n",
              "      <th>145</th>\n",
              "      <td>PSYCHOLOGY</td>\n",
              "      <td>393735.0</td>\n",
              "      <td>2584</td>\n",
              "      <td>31500</td>\n",
              "    </tr>\n",
              "    <tr>\n",
              "      <th>76</th>\n",
              "      <td>BUSINESS MANAGEMENT AND ADMINISTRATION</td>\n",
              "      <td>329927.0</td>\n",
              "      <td>4212</td>\n",
              "      <td>38000</td>\n",
              "    </tr>\n",
              "    <tr>\n",
              "      <th>123</th>\n",
              "      <td>BIOLOGY</td>\n",
              "      <td>280709.0</td>\n",
              "      <td>1370</td>\n",
              "      <td>33400</td>\n",
              "    </tr>\n",
              "    <tr>\n",
              "      <th>57</th>\n",
              "      <td>GENERAL BUSINESS</td>\n",
              "      <td>234590.0</td>\n",
              "      <td>2380</td>\n",
              "      <td>40000</td>\n",
              "    </tr>\n",
              "    <tr>\n",
              "      <th>93</th>\n",
              "      <td>COMMUNICATIONS</td>\n",
              "      <td>213996.0</td>\n",
              "      <td>2394</td>\n",
              "      <td>35000</td>\n",
              "    </tr>\n",
              "    <tr>\n",
              "      <th>34</th>\n",
              "      <td>NURSING</td>\n",
              "      <td>209394.0</td>\n",
              "      <td>2554</td>\n",
              "      <td>48000</td>\n",
              "    </tr>\n",
              "    <tr>\n",
              "      <th>77</th>\n",
              "      <td>MARKETING AND MARKETING RESEARCH</td>\n",
              "      <td>205211.0</td>\n",
              "      <td>2684</td>\n",
              "      <td>38000</td>\n",
              "    </tr>\n",
              "    <tr>\n",
              "      <th>40</th>\n",
              "      <td>ACCOUNTING</td>\n",
              "      <td>198633.0</td>\n",
              "      <td>2042</td>\n",
              "      <td>45000</td>\n",
              "    </tr>\n",
              "    <tr>\n",
              "      <th>137</th>\n",
              "      <td>ENGLISH LANGUAGE AND LITERATURE</td>\n",
              "      <td>194673.0</td>\n",
              "      <td>1436</td>\n",
              "      <td>32000</td>\n",
              "    </tr>\n",
              "    <tr>\n",
              "      <th>78</th>\n",
              "      <td>POLITICAL SCIENCE AND GOVERNMENT</td>\n",
              "      <td>182621.0</td>\n",
              "      <td>1387</td>\n",
              "      <td>38000</td>\n",
              "    </tr>\n",
              "  </tbody>\n",
              "</table>\n",
              "</div>"
            ],
            "text/plain": [
              "                                      Major     Total  Sample_size  Median\n",
              "145                              PSYCHOLOGY  393735.0         2584   31500\n",
              "76   BUSINESS MANAGEMENT AND ADMINISTRATION  329927.0         4212   38000\n",
              "123                                 BIOLOGY  280709.0         1370   33400\n",
              "57                         GENERAL BUSINESS  234590.0         2380   40000\n",
              "93                           COMMUNICATIONS  213996.0         2394   35000\n",
              "34                                  NURSING  209394.0         2554   48000\n",
              "77         MARKETING AND MARKETING RESEARCH  205211.0         2684   38000\n",
              "40                               ACCOUNTING  198633.0         2042   45000\n",
              "137         ENGLISH LANGUAGE AND LITERATURE  194673.0         1436   32000\n",
              "78         POLITICAL SCIENCE AND GOVERNMENT  182621.0         1387   38000"
            ]
          },
          "metadata": {
            "tags": []
          },
          "execution_count": 31
        }
      ]
    },
    {
      "cell_type": "code",
      "metadata": {
        "colab": {
          "base_uri": "https://localhost:8080/",
          "height": 348
        },
        "id": "B57R3Ehu1g3c",
        "outputId": "de5d3114-a503-4311-b8b5-579cc89a4cd5"
      },
      "source": [
        "top_10_salary_majors"
      ],
      "execution_count": 32,
      "outputs": [
        {
          "output_type": "execute_result",
          "data": {
            "text/html": [
              "<div>\n",
              "<style scoped>\n",
              "    .dataframe tbody tr th:only-of-type {\n",
              "        vertical-align: middle;\n",
              "    }\n",
              "\n",
              "    .dataframe tbody tr th {\n",
              "        vertical-align: top;\n",
              "    }\n",
              "\n",
              "    .dataframe thead th {\n",
              "        text-align: right;\n",
              "    }\n",
              "</style>\n",
              "<table border=\"1\" class=\"dataframe\">\n",
              "  <thead>\n",
              "    <tr style=\"text-align: right;\">\n",
              "      <th></th>\n",
              "      <th>Major</th>\n",
              "      <th>Total</th>\n",
              "      <th>Sample_size</th>\n",
              "      <th>Median</th>\n",
              "    </tr>\n",
              "  </thead>\n",
              "  <tbody>\n",
              "    <tr>\n",
              "      <th>0</th>\n",
              "      <td>PETROLEUM ENGINEERING</td>\n",
              "      <td>2339.0</td>\n",
              "      <td>36</td>\n",
              "      <td>110000</td>\n",
              "    </tr>\n",
              "    <tr>\n",
              "      <th>1</th>\n",
              "      <td>MINING AND MINERAL ENGINEERING</td>\n",
              "      <td>756.0</td>\n",
              "      <td>7</td>\n",
              "      <td>75000</td>\n",
              "    </tr>\n",
              "    <tr>\n",
              "      <th>2</th>\n",
              "      <td>METALLURGICAL ENGINEERING</td>\n",
              "      <td>856.0</td>\n",
              "      <td>3</td>\n",
              "      <td>73000</td>\n",
              "    </tr>\n",
              "    <tr>\n",
              "      <th>3</th>\n",
              "      <td>NAVAL ARCHITECTURE AND MARINE ENGINEERING</td>\n",
              "      <td>1258.0</td>\n",
              "      <td>16</td>\n",
              "      <td>70000</td>\n",
              "    </tr>\n",
              "    <tr>\n",
              "      <th>4</th>\n",
              "      <td>CHEMICAL ENGINEERING</td>\n",
              "      <td>32260.0</td>\n",
              "      <td>289</td>\n",
              "      <td>65000</td>\n",
              "    </tr>\n",
              "    <tr>\n",
              "      <th>5</th>\n",
              "      <td>NUCLEAR ENGINEERING</td>\n",
              "      <td>2573.0</td>\n",
              "      <td>17</td>\n",
              "      <td>65000</td>\n",
              "    </tr>\n",
              "    <tr>\n",
              "      <th>6</th>\n",
              "      <td>ACTUARIAL SCIENCE</td>\n",
              "      <td>3777.0</td>\n",
              "      <td>51</td>\n",
              "      <td>62000</td>\n",
              "    </tr>\n",
              "    <tr>\n",
              "      <th>7</th>\n",
              "      <td>ASTRONOMY AND ASTROPHYSICS</td>\n",
              "      <td>1792.0</td>\n",
              "      <td>10</td>\n",
              "      <td>62000</td>\n",
              "    </tr>\n",
              "    <tr>\n",
              "      <th>10</th>\n",
              "      <td>COMPUTER ENGINEERING</td>\n",
              "      <td>41542.0</td>\n",
              "      <td>399</td>\n",
              "      <td>60000</td>\n",
              "    </tr>\n",
              "    <tr>\n",
              "      <th>13</th>\n",
              "      <td>MATERIALS SCIENCE</td>\n",
              "      <td>4279.0</td>\n",
              "      <td>22</td>\n",
              "      <td>60000</td>\n",
              "    </tr>\n",
              "  </tbody>\n",
              "</table>\n",
              "</div>"
            ],
            "text/plain": [
              "                                        Major    Total  Sample_size  Median\n",
              "0                       PETROLEUM ENGINEERING   2339.0           36  110000\n",
              "1              MINING AND MINERAL ENGINEERING    756.0            7   75000\n",
              "2                   METALLURGICAL ENGINEERING    856.0            3   73000\n",
              "3   NAVAL ARCHITECTURE AND MARINE ENGINEERING   1258.0           16   70000\n",
              "4                        CHEMICAL ENGINEERING  32260.0          289   65000\n",
              "5                         NUCLEAR ENGINEERING   2573.0           17   65000\n",
              "6                           ACTUARIAL SCIENCE   3777.0           51   62000\n",
              "7                  ASTRONOMY AND ASTROPHYSICS   1792.0           10   62000\n",
              "10                       COMPUTER ENGINEERING  41542.0          399   60000\n",
              "13                          MATERIALS SCIENCE   4279.0           22   60000"
            ]
          },
          "metadata": {
            "tags": []
          },
          "execution_count": 32
        }
      ]
    },
    {
      "cell_type": "markdown",
      "metadata": {
        "id": "LDRAm9T61xBV"
      },
      "source": [
        "##### As the scatter plot illustrated and these tables confirm, the most popular majors don't translate to higher Median salaries while the lesser popular major do. To me this makes sense. The harder majors are more rigorous and demand more aptitude. Individuals determined enough to complete these programs are rewarded by way of higher paying jobs."
      ]
    },
    {
      "cell_type": "markdown",
      "metadata": {
        "id": "vG4xdfgN4Zi9"
      },
      "source": [
        "# Pandas, Histograms\n",
        "\n",
        "##### In this section I'll begin plotting more data but instead of finding relationships, we'll explore the distribution of values for various columns to try and extract some insights. I'll note my observations of each plot as I go."
      ]
    },
    {
      "cell_type": "code",
      "metadata": {
        "colab": {
          "base_uri": "https://localhost:8080/",
          "height": 283
        },
        "id": "-joQjjfH8m4l",
        "outputId": "bda504ce-9b1c-46c2-f951-3b53174d8072"
      },
      "source": [
        "recent_grads['Sample_size'].hist(range=(0,5000))"
      ],
      "execution_count": 80,
      "outputs": [
        {
          "output_type": "execute_result",
          "data": {
            "text/plain": [
              "<matplotlib.axes._subplots.AxesSubplot at 0x7f75c54728d0>"
            ]
          },
          "metadata": {
            "tags": []
          },
          "execution_count": 80
        },
        {
          "output_type": "display_data",
          "data": {
            "image/png": "[encoded data removed]",
            "text/plain": [
              "<Figure size 432x288 with 1 Axes>"
            ]
          },
          "metadata": {
            "tags": [],
            "needs_background": "light"
          }
        }
      ]
    },
    {
      "cell_type": "markdown",
      "metadata": {
        "id": "4QEGd0Ij_gcH"
      },
      "source": [
        "##### The 'Sample_size' column has a wide range of values. The vast majority of values fall between 0 and 500. The distribution is heavily skewed left."
      ]
    },
    {
      "cell_type": "code",
      "metadata": {
        "colab": {
          "base_uri": "https://localhost:8080/",
          "height": 283
        },
        "id": "oGtLzhvx85vz",
        "outputId": "2137b88b-e2e4-4feb-eb0d-d9be828eeb5d"
      },
      "source": [
        "recent_grads['Median'].hist(range=(0,111000))"
      ],
      "execution_count": 81,
      "outputs": [
        {
          "output_type": "execute_result",
          "data": {
            "text/plain": [
              "<matplotlib.axes._subplots.AxesSubplot at 0x7f75c54c8128>"
            ]
          },
          "metadata": {
            "tags": []
          },
          "execution_count": 81
        },
        {
          "output_type": "display_data",
          "data": {
            "image/png": "[encoded data removed]",
            "text/plain": [
              "<Figure size 432x288 with 1 Axes>"
            ]
          },
          "metadata": {
            "tags": [],
            "needs_background": "light"
          }
        }
      ]
    },
    {
      "cell_type": "markdown",
      "metadata": {
        "id": "r5N9UEY7_0xN"
      },
      "source": [
        "##### We can see from the 'Median' column that the majority of values fall between 30,000 and 40,000. We see one outlier way out there to the right of the histogram. We know from the previous section that major is Petroleum Engineering. "
      ]
    },
    {
      "cell_type": "code",
      "metadata": {
        "colab": {
          "base_uri": "https://localhost:8080/",
          "height": 283
        },
        "id": "03Bpq-_585ln",
        "outputId": "727fa92e-2d88-4cc6-a9e6-218a54f1022b"
      },
      "source": [
        "recent_grads['Employed'].hist(range=(0,310000))"
      ],
      "execution_count": 83,
      "outputs": [
        {
          "output_type": "execute_result",
          "data": {
            "text/plain": [
              "<matplotlib.axes._subplots.AxesSubplot at 0x7f75c52fe128>"
            ]
          },
          "metadata": {
            "tags": []
          },
          "execution_count": 83
        },
        {
          "output_type": "display_data",
          "data": {
            "image/png": "[encoded data removed]",
            "text/plain": [
              "<Figure size 432x288 with 1 Axes>"
            ]
          },
          "metadata": {
            "tags": [],
            "needs_background": "light"
          }
        }
      ]
    },
    {
      "cell_type": "markdown",
      "metadata": {
        "id": "3uUMAlDZBA_K"
      },
      "source": [
        "##### We can see from this histogram that the vast majority of majors employ less than 50,000 people."
      ]
    },
    {
      "cell_type": "code",
      "metadata": {
        "colab": {
          "base_uri": "https://localhost:8080/",
          "height": 283
        },
        "id": "ceNfmnzw85WF",
        "outputId": "90961b77-ad04-4d2c-d9f8-cd1d4af97603"
      },
      "source": [
        "recent_grads['Full_time'].hist(range=(0,255000))"
      ],
      "execution_count": 84,
      "outputs": [
        {
          "output_type": "execute_result",
          "data": {
            "text/plain": [
              "<matplotlib.axes._subplots.AxesSubplot at 0x7f75c520d828>"
            ]
          },
          "metadata": {
            "tags": []
          },
          "execution_count": 84
        },
        {
          "output_type": "display_data",
          "data": {
            "image/png": "[encoded data removed]",
            "text/plain": [
              "<Figure size 432x288 with 1 Axes>"
            ]
          },
          "metadata": {
            "tags": [],
            "needs_background": "light"
          }
        }
      ]
    },
    {
      "cell_type": "markdown",
      "metadata": {
        "id": "xnhVobVpBTRF"
      },
      "source": [
        "##### Like the 'Employed' column, the 'Full_time' columns is also heavily skewed left and the vast majority of values fall below 50,000."
      ]
    },
    {
      "cell_type": "code",
      "metadata": {
        "colab": {
          "base_uri": "https://localhost:8080/",
          "height": 283
        },
        "id": "ud-jbMJh85KZ",
        "outputId": "4d501dbd-f45a-4095-eb56-1e8512a8ba1f"
      },
      "source": [
        "recent_grads['ShareWomen'].hist(bins = 10, range=(0,1))"
      ],
      "execution_count": 91,
      "outputs": [
        {
          "output_type": "execute_result",
          "data": {
            "text/plain": [
              "<matplotlib.axes._subplots.AxesSubplot at 0x7f75c4f7d780>"
            ]
          },
          "metadata": {
            "tags": []
          },
          "execution_count": 91
        },
        {
          "output_type": "display_data",
          "data": {
            "image/png": "[encoded data removed]",
            "text/plain": [
              "<Figure size 432x288 with 1 Axes>"
            ]
          },
          "metadata": {
            "tags": [],
            "needs_background": "light"
          }
        }
      ]
    },
    {
      "cell_type": "markdown",
      "metadata": {
        "id": "sMHxLYbXB27a"
      },
      "source": [
        "##### We can see from this histogram that the 'ShareWomen' column has the highest frequency of its values fall between 0.6 and 0.8. "
      ]
    },
    {
      "cell_type": "code",
      "metadata": {
        "colab": {
          "base_uri": "https://localhost:8080/",
          "height": 286
        },
        "id": "J3948hOi92sk",
        "outputId": "52da549b-0f21-4c79-930b-305af6d929ca"
      },
      "source": [
        "recent_grads['Unemployment_rate'].hist()"
      ],
      "execution_count": 96,
      "outputs": [
        {
          "output_type": "execute_result",
          "data": {
            "text/plain": [
              "<matplotlib.axes._subplots.AxesSubplot at 0x7f75c53c85c0>"
            ]
          },
          "metadata": {
            "tags": []
          },
          "execution_count": 96
        },
        {
          "output_type": "display_data",
          "data": {
            "image/png": "[encoded data removed]",
            "text/plain": [
              "<Figure size 432x288 with 1 Axes>"
            ]
          },
          "metadata": {
            "tags": [],
            "needs_background": "light"
          }
        }
      ]
    },
    {
      "cell_type": "markdown",
      "metadata": {
        "id": "Nyn99kH9ED04"
      },
      "source": [
        "##### We can see from this histogram that the distribution of values are pretty close to being normally distributed. "
      ]
    },
    {
      "cell_type": "code",
      "metadata": {
        "colab": {
          "base_uri": "https://localhost:8080/",
          "height": 283
        },
        "id": "qsK335pl-AU-",
        "outputId": "c32fbedf-c689-455e-d8cb-54bcaad7bd12"
      },
      "source": [
        "recent_grads['Men'].hist()"
      ],
      "execution_count": 97,
      "outputs": [
        {
          "output_type": "execute_result",
          "data": {
            "text/plain": [
              "<matplotlib.axes._subplots.AxesSubplot at 0x7f75c53c8b00>"
            ]
          },
          "metadata": {
            "tags": []
          },
          "execution_count": 97
        },
        {
          "output_type": "display_data",
          "data": {
            "image/png": "[encoded data removed]",
            "text/plain": [
              "<Figure size 432x288 with 1 Axes>"
            ]
          },
          "metadata": {
            "tags": [],
            "needs_background": "light"
          }
        }
      ]
    },
    {
      "cell_type": "markdown",
      "metadata": {
        "id": "nKXH3BShEP-u"
      },
      "source": [
        "##### We can see that the distribution of values is heavily skewed left. "
      ]
    },
    {
      "cell_type": "code",
      "metadata": {
        "colab": {
          "base_uri": "https://localhost:8080/",
          "height": 283
        },
        "id": "m3iPXDxd-MgG",
        "outputId": "c144fdde-fd40-4064-fd54-ea7070cb5bb0"
      },
      "source": [
        "recent_grads['Women'].hist()"
      ],
      "execution_count": 98,
      "outputs": [
        {
          "output_type": "execute_result",
          "data": {
            "text/plain": [
              "<matplotlib.axes._subplots.AxesSubplot at 0x7f75c4c8ed68>"
            ]
          },
          "metadata": {
            "tags": []
          },
          "execution_count": 98
        },
        {
          "output_type": "display_data",
          "data": {
            "image/png": "[encoded data removed]",
            "text/plain": [
              "<Figure size 432x288 with 1 Axes>"
            ]
          },
          "metadata": {
            "tags": [],
            "needs_background": "light"
          }
        }
      ]
    },
    {
      "cell_type": "markdown",
      "metadata": {
        "id": "H0MQidA8Ec9d"
      },
      "source": [
        "##### We can see that the distribution of values are heavily skewed left."
      ]
    },
    {
      "cell_type": "markdown",
      "metadata": {
        "id": "hltkFZkYE1Ri"
      },
      "source": [
        "# Pandas, Scatter Matrix Plot\n",
        "\n",
        "##### For the rest of this notebook. I will use various plots to showoff some of the cool features Pandas and Matplotlib offers to visualize our data."
      ]
    },
    {
      "cell_type": "code",
      "metadata": {
        "colab": {
          "base_uri": "https://localhost:8080/",
          "height": 499
        },
        "id": "Lam6NkEjEg71",
        "outputId": "0922fcec-6875-4f7c-ed2f-c5a293dbb14c"
      },
      "source": [
        "from pandas.plotting import scatter_matrix  # we import the scatter_matrix module that will allow us to create our plot\n",
        "\n",
        "scatter_matrix(recent_grads[['Sample_size', 'Median']], figsize=(6,6))"
      ],
      "execution_count": 99,
      "outputs": [
        {
          "output_type": "execute_result",
          "data": {
            "text/plain": [
              "array([[<matplotlib.axes._subplots.AxesSubplot object at 0x7f75c4b7d668>,\n",
              "        <matplotlib.axes._subplots.AxesSubplot object at 0x7f75c4b29080>],\n",
              "       [<matplotlib.axes._subplots.AxesSubplot object at 0x7f75c4adc2e8>,\n",
              "        <matplotlib.axes._subplots.AxesSubplot object at 0x7f75c4a8e550>]],\n",
              "      dtype=object)"
            ]
          },
          "metadata": {
            "tags": []
          },
          "execution_count": 99
        },
        {
          "output_type": "display_data",
          "data": {
            "image/png": "[encoded data removed]",
            "text/plain": [
              "<Figure size 432x432 with 4 Axes>"
            ]
          },
          "metadata": {
            "tags": [],
            "needs_background": "light"
          }
        }
      ]
    },
    {
      "cell_type": "code",
      "metadata": {
        "colab": {
          "base_uri": "https://localhost:8080/",
          "height": 806
        },
        "id": "uDoBwxGEFPtE",
        "outputId": "704c8f8d-4b9f-434c-8ebb-2af6bbc1404d"
      },
      "source": [
        "scatter_matrix(recent_grads[['Sample_size', 'Median', 'Unemployment_rate']], figsize=(10,10))"
      ],
      "execution_count": 100,
      "outputs": [
        {
          "output_type": "execute_result",
          "data": {
            "text/plain": [
              "array([[<matplotlib.axes._subplots.AxesSubplot object at 0x7f75c4ac1898>,\n",
              "        <matplotlib.axes._subplots.AxesSubplot object at 0x7f75c499f588>,\n",
              "        <matplotlib.axes._subplots.AxesSubplot object at 0x7f75c49518d0>],\n",
              "       [<matplotlib.axes._subplots.AxesSubplot object at 0x7f75c4981c50>,\n",
              "        <matplotlib.axes._subplots.AxesSubplot object at 0x7f75c4935fd0>,\n",
              "        <matplotlib.axes._subplots.AxesSubplot object at 0x7f75c48f3390>],\n",
              "       [<matplotlib.axes._subplots.AxesSubplot object at 0x7f75c48a4710>,\n",
              "        <matplotlib.axes._subplots.AxesSubplot object at 0x7f75c4855a58>,\n",
              "        <matplotlib.axes._subplots.AxesSubplot object at 0x7f75c4855ac8>]],\n",
              "      dtype=object)"
            ]
          },
          "metadata": {
            "tags": []
          },
          "execution_count": 100
        },
        {
          "output_type": "display_data",
          "data": {
            "image/png": "[encoded data removed]",
            "text/plain": [
              "<Figure size 720x720 with 9 Axes>"
            ]
          },
          "metadata": {
            "tags": [],
            "needs_background": "light"
          }
        }
      ]
    },
    {
      "cell_type": "markdown",
      "metadata": {
        "id": "Cu3SvqihFT86"
      },
      "source": [
        "# Pandas, Bar Plots\n",
        "\n",
        "##### Like the previous section, here I am just showing off some of Pandas and Matplotlibs cool data visualization features with bar plots."
      ]
    },
    {
      "cell_type": "code",
      "metadata": {
        "colab": {
          "base_uri": "https://localhost:8080/",
          "height": 948
        },
        "id": "GFLCChI0FW1h",
        "outputId": "525098e0-7076-41ef-bde5-2994142bc306"
      },
      "source": [
        "recent_grads[:10].plot.bar(x='Major', y='ShareWomen', legend=False)\n",
        "recent_grads[163:].plot.bar(x='Major', y='ShareWomen', legend=False)"
      ],
      "execution_count": 102,
      "outputs": [
        {
          "output_type": "execute_result",
          "data": {
            "text/plain": [
              "<matplotlib.axes._subplots.AxesSubplot at 0x7f75c2e08be0>"
            ]
          },
          "metadata": {
            "tags": []
          },
          "execution_count": 102
        },
        {
          "output_type": "display_data",
          "data": {
            "image/png": "[encoded data removed]",
            "text/plain": [
              "<Figure size 432x288 with 1 Axes>"
            ]
          },
          "metadata": {
            "tags": [],
            "needs_background": "light"
          }
        },
        {
          "output_type": "display_data",
          "data": {
            "image/png": "[encoded data removed]",
            "text/plain": [
              "<Figure size 432x288 with 1 Axes>"
            ]
          },
          "metadata": {
            "tags": [],
            "needs_background": "light"
          }
        }
      ]
    }
  ]
}